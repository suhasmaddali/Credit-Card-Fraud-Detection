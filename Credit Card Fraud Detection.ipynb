{
 "cells": [
  {
   "cell_type": "markdown",
   "id": "b034992f",
   "metadata": {},
   "source": [
    "## Credit Card Fraud Detection"
   ]
  },
  {
   "cell_type": "code",
   "execution_count": 1,
   "id": "530b8ee5",
   "metadata": {},
   "outputs": [
    {
     "name": "stderr",
     "output_type": "stream",
     "text": [
      "C:\\Anaconda_latest\\envs\\creditcardfrauddetection\\lib\\site-packages\\scipy\\__init__.py:146: UserWarning: A NumPy version >=1.16.5 and <1.23.0 is required for this version of SciPy (detected version 1.23.5\n",
      "  warnings.warn(f\"A NumPy version >={np_minversion} and <{np_maxversion}\"\n"
     ]
    }
   ],
   "source": [
    "import pandas as pd\n",
    "import seaborn as sns\n",
    "import matplotlib.pyplot as plt\n",
    "from sklearn.model_selection import train_test_split\n",
    "import numpy as np\n",
    "from time import strptime\n",
    "\n",
    "plt.rcParams['figure.figsize'] = (15, 10)\n",
    "pd.options.display.max_columns = 50\n",
    "\n",
    "import warnings\n",
    "warnings.filterwarnings(\"ignore\")"
   ]
  },
  {
   "cell_type": "code",
   "execution_count": 2,
   "id": "2a6fbea6",
   "metadata": {},
   "outputs": [],
   "source": [
    "df = pd.read_csv('fraudTrain.csv')"
   ]
  },
  {
   "cell_type": "code",
   "execution_count": 3,
   "id": "f0d6f108",
   "metadata": {},
   "outputs": [
    {
     "data": {
      "text/html": [
       "<div>\n",
       "<style scoped>\n",
       "    .dataframe tbody tr th:only-of-type {\n",
       "        vertical-align: middle;\n",
       "    }\n",
       "\n",
       "    .dataframe tbody tr th {\n",
       "        vertical-align: top;\n",
       "    }\n",
       "\n",
       "    .dataframe thead th {\n",
       "        text-align: right;\n",
       "    }\n",
       "</style>\n",
       "<table border=\"1\" class=\"dataframe\">\n",
       "  <thead>\n",
       "    <tr style=\"text-align: right;\">\n",
       "      <th></th>\n",
       "      <th>Unnamed: 0</th>\n",
       "      <th>trans_date_trans_time</th>\n",
       "      <th>cc_num</th>\n",
       "      <th>merchant</th>\n",
       "      <th>category</th>\n",
       "      <th>amt</th>\n",
       "      <th>first</th>\n",
       "      <th>last</th>\n",
       "      <th>gender</th>\n",
       "      <th>street</th>\n",
       "      <th>city</th>\n",
       "      <th>state</th>\n",
       "      <th>zip</th>\n",
       "      <th>lat</th>\n",
       "      <th>long</th>\n",
       "      <th>city_pop</th>\n",
       "      <th>job</th>\n",
       "      <th>dob</th>\n",
       "      <th>trans_num</th>\n",
       "      <th>unix_time</th>\n",
       "      <th>merch_lat</th>\n",
       "      <th>merch_long</th>\n",
       "      <th>is_fraud</th>\n",
       "    </tr>\n",
       "  </thead>\n",
       "  <tbody>\n",
       "    <tr>\n",
       "      <th>0</th>\n",
       "      <td>0</td>\n",
       "      <td>2019-01-01 00:00:18</td>\n",
       "      <td>2703186189652095</td>\n",
       "      <td>fraud_Rippin, Kub and Mann</td>\n",
       "      <td>misc_net</td>\n",
       "      <td>4.97</td>\n",
       "      <td>Jennifer</td>\n",
       "      <td>Banks</td>\n",
       "      <td>F</td>\n",
       "      <td>561 Perry Cove</td>\n",
       "      <td>Moravian Falls</td>\n",
       "      <td>NC</td>\n",
       "      <td>28654</td>\n",
       "      <td>36.0788</td>\n",
       "      <td>-81.1781</td>\n",
       "      <td>3495</td>\n",
       "      <td>Psychologist, counselling</td>\n",
       "      <td>1988-03-09</td>\n",
       "      <td>0b242abb623afc578575680df30655b9</td>\n",
       "      <td>1325376018</td>\n",
       "      <td>36.011293</td>\n",
       "      <td>-82.048315</td>\n",
       "      <td>0</td>\n",
       "    </tr>\n",
       "    <tr>\n",
       "      <th>1</th>\n",
       "      <td>1</td>\n",
       "      <td>2019-01-01 00:00:44</td>\n",
       "      <td>630423337322</td>\n",
       "      <td>fraud_Heller, Gutmann and Zieme</td>\n",
       "      <td>grocery_pos</td>\n",
       "      <td>107.23</td>\n",
       "      <td>Stephanie</td>\n",
       "      <td>Gill</td>\n",
       "      <td>F</td>\n",
       "      <td>43039 Riley Greens Suite 393</td>\n",
       "      <td>Orient</td>\n",
       "      <td>WA</td>\n",
       "      <td>99160</td>\n",
       "      <td>48.8878</td>\n",
       "      <td>-118.2105</td>\n",
       "      <td>149</td>\n",
       "      <td>Special educational needs teacher</td>\n",
       "      <td>1978-06-21</td>\n",
       "      <td>1f76529f8574734946361c461b024d99</td>\n",
       "      <td>1325376044</td>\n",
       "      <td>49.159047</td>\n",
       "      <td>-118.186462</td>\n",
       "      <td>0</td>\n",
       "    </tr>\n",
       "    <tr>\n",
       "      <th>2</th>\n",
       "      <td>2</td>\n",
       "      <td>2019-01-01 00:00:51</td>\n",
       "      <td>38859492057661</td>\n",
       "      <td>fraud_Lind-Buckridge</td>\n",
       "      <td>entertainment</td>\n",
       "      <td>220.11</td>\n",
       "      <td>Edward</td>\n",
       "      <td>Sanchez</td>\n",
       "      <td>M</td>\n",
       "      <td>594 White Dale Suite 530</td>\n",
       "      <td>Malad City</td>\n",
       "      <td>ID</td>\n",
       "      <td>83252</td>\n",
       "      <td>42.1808</td>\n",
       "      <td>-112.2620</td>\n",
       "      <td>4154</td>\n",
       "      <td>Nature conservation officer</td>\n",
       "      <td>1962-01-19</td>\n",
       "      <td>a1a22d70485983eac12b5b88dad1cf95</td>\n",
       "      <td>1325376051</td>\n",
       "      <td>43.150704</td>\n",
       "      <td>-112.154481</td>\n",
       "      <td>0</td>\n",
       "    </tr>\n",
       "    <tr>\n",
       "      <th>3</th>\n",
       "      <td>3</td>\n",
       "      <td>2019-01-01 00:01:16</td>\n",
       "      <td>3534093764340240</td>\n",
       "      <td>fraud_Kutch, Hermiston and Farrell</td>\n",
       "      <td>gas_transport</td>\n",
       "      <td>45.00</td>\n",
       "      <td>Jeremy</td>\n",
       "      <td>White</td>\n",
       "      <td>M</td>\n",
       "      <td>9443 Cynthia Court Apt. 038</td>\n",
       "      <td>Boulder</td>\n",
       "      <td>MT</td>\n",
       "      <td>59632</td>\n",
       "      <td>46.2306</td>\n",
       "      <td>-112.1138</td>\n",
       "      <td>1939</td>\n",
       "      <td>Patent attorney</td>\n",
       "      <td>1967-01-12</td>\n",
       "      <td>6b849c168bdad6f867558c3793159a81</td>\n",
       "      <td>1325376076</td>\n",
       "      <td>47.034331</td>\n",
       "      <td>-112.561071</td>\n",
       "      <td>0</td>\n",
       "    </tr>\n",
       "    <tr>\n",
       "      <th>4</th>\n",
       "      <td>4</td>\n",
       "      <td>2019-01-01 00:03:06</td>\n",
       "      <td>375534208663984</td>\n",
       "      <td>fraud_Keeling-Crist</td>\n",
       "      <td>misc_pos</td>\n",
       "      <td>41.96</td>\n",
       "      <td>Tyler</td>\n",
       "      <td>Garcia</td>\n",
       "      <td>M</td>\n",
       "      <td>408 Bradley Rest</td>\n",
       "      <td>Doe Hill</td>\n",
       "      <td>VA</td>\n",
       "      <td>24433</td>\n",
       "      <td>38.4207</td>\n",
       "      <td>-79.4629</td>\n",
       "      <td>99</td>\n",
       "      <td>Dance movement psychotherapist</td>\n",
       "      <td>1986-03-28</td>\n",
       "      <td>a41d7549acf90789359a9aa5346dcb46</td>\n",
       "      <td>1325376186</td>\n",
       "      <td>38.674999</td>\n",
       "      <td>-78.632459</td>\n",
       "      <td>0</td>\n",
       "    </tr>\n",
       "  </tbody>\n",
       "</table>\n",
       "</div>"
      ],
      "text/plain": [
       "   Unnamed: 0 trans_date_trans_time            cc_num  \\\n",
       "0           0   2019-01-01 00:00:18  2703186189652095   \n",
       "1           1   2019-01-01 00:00:44      630423337322   \n",
       "2           2   2019-01-01 00:00:51    38859492057661   \n",
       "3           3   2019-01-01 00:01:16  3534093764340240   \n",
       "4           4   2019-01-01 00:03:06   375534208663984   \n",
       "\n",
       "                             merchant       category     amt      first  \\\n",
       "0          fraud_Rippin, Kub and Mann       misc_net    4.97   Jennifer   \n",
       "1     fraud_Heller, Gutmann and Zieme    grocery_pos  107.23  Stephanie   \n",
       "2                fraud_Lind-Buckridge  entertainment  220.11     Edward   \n",
       "3  fraud_Kutch, Hermiston and Farrell  gas_transport   45.00     Jeremy   \n",
       "4                 fraud_Keeling-Crist       misc_pos   41.96      Tyler   \n",
       "\n",
       "      last gender                        street            city state    zip  \\\n",
       "0    Banks      F                561 Perry Cove  Moravian Falls    NC  28654   \n",
       "1     Gill      F  43039 Riley Greens Suite 393          Orient    WA  99160   \n",
       "2  Sanchez      M      594 White Dale Suite 530      Malad City    ID  83252   \n",
       "3    White      M   9443 Cynthia Court Apt. 038         Boulder    MT  59632   \n",
       "4   Garcia      M              408 Bradley Rest        Doe Hill    VA  24433   \n",
       "\n",
       "       lat      long  city_pop                                job         dob  \\\n",
       "0  36.0788  -81.1781      3495          Psychologist, counselling  1988-03-09   \n",
       "1  48.8878 -118.2105       149  Special educational needs teacher  1978-06-21   \n",
       "2  42.1808 -112.2620      4154        Nature conservation officer  1962-01-19   \n",
       "3  46.2306 -112.1138      1939                    Patent attorney  1967-01-12   \n",
       "4  38.4207  -79.4629        99     Dance movement psychotherapist  1986-03-28   \n",
       "\n",
       "                          trans_num   unix_time  merch_lat  merch_long  \\\n",
       "0  0b242abb623afc578575680df30655b9  1325376018  36.011293  -82.048315   \n",
       "1  1f76529f8574734946361c461b024d99  1325376044  49.159047 -118.186462   \n",
       "2  a1a22d70485983eac12b5b88dad1cf95  1325376051  43.150704 -112.154481   \n",
       "3  6b849c168bdad6f867558c3793159a81  1325376076  47.034331 -112.561071   \n",
       "4  a41d7549acf90789359a9aa5346dcb46  1325376186  38.674999  -78.632459   \n",
       "\n",
       "   is_fraud  \n",
       "0         0  \n",
       "1         0  \n",
       "2         0  \n",
       "3         0  \n",
       "4         0  "
      ]
     },
     "execution_count": 3,
     "metadata": {},
     "output_type": "execute_result"
    }
   ],
   "source": [
    "df.head()"
   ]
  },
  {
   "cell_type": "code",
   "execution_count": 4,
   "id": "cfc16160",
   "metadata": {},
   "outputs": [
    {
     "data": {
      "text/plain": [
       "983"
      ]
     },
     "execution_count": 4,
     "metadata": {},
     "output_type": "execute_result"
    }
   ],
   "source": [
    "df['cc_num'].nunique()"
   ]
  },
  {
   "cell_type": "code",
   "execution_count": 5,
   "id": "166a73fc",
   "metadata": {},
   "outputs": [
    {
     "data": {
      "text/plain": [
       "1274791"
      ]
     },
     "execution_count": 5,
     "metadata": {},
     "output_type": "execute_result"
    }
   ],
   "source": [
    "df['zip'].nunique()\n",
    "df['trans_date_trans_time'].nunique()"
   ]
  },
  {
   "cell_type": "code",
   "execution_count": 6,
   "id": "7fd19534",
   "metadata": {},
   "outputs": [
    {
     "data": {
      "text/plain": [
       "1296675"
      ]
     },
     "execution_count": 6,
     "metadata": {},
     "output_type": "execute_result"
    }
   ],
   "source": [
    "len(df['trans_num'])"
   ]
  },
  {
   "cell_type": "code",
   "execution_count": 7,
   "id": "cb37e278",
   "metadata": {},
   "outputs": [
    {
     "data": {
      "text/plain": [
       "1296675"
      ]
     },
     "execution_count": 7,
     "metadata": {},
     "output_type": "execute_result"
    }
   ],
   "source": [
    "len(df)"
   ]
  },
  {
   "cell_type": "code",
   "execution_count": 8,
   "id": "5c89b3a1",
   "metadata": {},
   "outputs": [
    {
     "name": "stdout",
     "output_type": "stream",
     "text": [
      "<class 'pandas.core.frame.DataFrame'>\n",
      "RangeIndex: 1296675 entries, 0 to 1296674\n",
      "Data columns (total 23 columns):\n",
      " #   Column                 Non-Null Count    Dtype  \n",
      "---  ------                 --------------    -----  \n",
      " 0   Unnamed: 0             1296675 non-null  int64  \n",
      " 1   trans_date_trans_time  1296675 non-null  object \n",
      " 2   cc_num                 1296675 non-null  int64  \n",
      " 3   merchant               1296675 non-null  object \n",
      " 4   category               1296675 non-null  object \n",
      " 5   amt                    1296675 non-null  float64\n",
      " 6   first                  1296675 non-null  object \n",
      " 7   last                   1296675 non-null  object \n",
      " 8   gender                 1296675 non-null  object \n",
      " 9   street                 1296675 non-null  object \n",
      " 10  city                   1296675 non-null  object \n",
      " 11  state                  1296675 non-null  object \n",
      " 12  zip                    1296675 non-null  int64  \n",
      " 13  lat                    1296675 non-null  float64\n",
      " 14  long                   1296675 non-null  float64\n",
      " 15  city_pop               1296675 non-null  int64  \n",
      " 16  job                    1296675 non-null  object \n",
      " 17  dob                    1296675 non-null  object \n",
      " 18  trans_num              1296675 non-null  object \n",
      " 19  unix_time              1296675 non-null  int64  \n",
      " 20  merch_lat              1296675 non-null  float64\n",
      " 21  merch_long             1296675 non-null  float64\n",
      " 22  is_fraud               1296675 non-null  int64  \n",
      "dtypes: float64(5), int64(6), object(12)\n",
      "memory usage: 227.5+ MB\n"
     ]
    }
   ],
   "source": [
    "df.info()"
   ]
  },
  {
   "cell_type": "code",
   "execution_count": 9,
   "id": "099f9910",
   "metadata": {},
   "outputs": [],
   "source": [
    "# Defining functions to extract date and time of features\n",
    "\n",
    "def date_time_extractor(data):  \n",
    "    date = pd.to_datetime(data)    \n",
    "    return date"
   ]
  },
  {
   "cell_type": "code",
   "execution_count": 10,
   "id": "436ffd0e",
   "metadata": {},
   "outputs": [],
   "source": [
    "# This cell can take about 5-10 minutes depending on the speed of the processor\n",
    "df['transaction_date'] = df['trans_date_trans_time'].apply(date_time_extractor)"
   ]
  },
  {
   "cell_type": "code",
   "execution_count": 11,
   "id": "ad3eff65",
   "metadata": {},
   "outputs": [],
   "source": [
    "# Extracting individual features from dates and times derived earlier\n",
    "df['year'] = df['transaction_date'].dt.year\n",
    "df['month'] = df['transaction_date'].dt.month\n",
    "df['day'] = df['transaction_date'].dt.day\n",
    "\n",
    "# Extracting hour, minute and second from the data\n",
    "df['hour'] = df['transaction_date'].dt.hour\n",
    "df['minute'] = df['transaction_date'].dt.minute\n",
    "df['second'] = df['transaction_date'].dt.second"
   ]
  },
  {
   "cell_type": "code",
   "execution_count": 12,
   "id": "b378a2a0",
   "metadata": {},
   "outputs": [
    {
     "data": {
      "text/html": [
       "<div>\n",
       "<style scoped>\n",
       "    .dataframe tbody tr th:only-of-type {\n",
       "        vertical-align: middle;\n",
       "    }\n",
       "\n",
       "    .dataframe tbody tr th {\n",
       "        vertical-align: top;\n",
       "    }\n",
       "\n",
       "    .dataframe thead th {\n",
       "        text-align: right;\n",
       "    }\n",
       "</style>\n",
       "<table border=\"1\" class=\"dataframe\">\n",
       "  <thead>\n",
       "    <tr style=\"text-align: right;\">\n",
       "      <th></th>\n",
       "      <th>Unnamed: 0</th>\n",
       "      <th>trans_date_trans_time</th>\n",
       "      <th>cc_num</th>\n",
       "      <th>merchant</th>\n",
       "      <th>category</th>\n",
       "      <th>amt</th>\n",
       "      <th>first</th>\n",
       "      <th>last</th>\n",
       "      <th>gender</th>\n",
       "      <th>street</th>\n",
       "      <th>city</th>\n",
       "      <th>state</th>\n",
       "      <th>zip</th>\n",
       "      <th>lat</th>\n",
       "      <th>long</th>\n",
       "      <th>city_pop</th>\n",
       "      <th>job</th>\n",
       "      <th>dob</th>\n",
       "      <th>trans_num</th>\n",
       "      <th>unix_time</th>\n",
       "      <th>merch_lat</th>\n",
       "      <th>merch_long</th>\n",
       "      <th>is_fraud</th>\n",
       "      <th>transaction_date</th>\n",
       "      <th>year</th>\n",
       "      <th>month</th>\n",
       "      <th>day</th>\n",
       "      <th>hour</th>\n",
       "      <th>minute</th>\n",
       "      <th>second</th>\n",
       "    </tr>\n",
       "  </thead>\n",
       "  <tbody>\n",
       "    <tr>\n",
       "      <th>0</th>\n",
       "      <td>0</td>\n",
       "      <td>2019-01-01 00:00:18</td>\n",
       "      <td>2703186189652095</td>\n",
       "      <td>fraud_Rippin, Kub and Mann</td>\n",
       "      <td>misc_net</td>\n",
       "      <td>4.97</td>\n",
       "      <td>Jennifer</td>\n",
       "      <td>Banks</td>\n",
       "      <td>F</td>\n",
       "      <td>561 Perry Cove</td>\n",
       "      <td>Moravian Falls</td>\n",
       "      <td>NC</td>\n",
       "      <td>28654</td>\n",
       "      <td>36.0788</td>\n",
       "      <td>-81.1781</td>\n",
       "      <td>3495</td>\n",
       "      <td>Psychologist, counselling</td>\n",
       "      <td>1988-03-09</td>\n",
       "      <td>0b242abb623afc578575680df30655b9</td>\n",
       "      <td>1325376018</td>\n",
       "      <td>36.011293</td>\n",
       "      <td>-82.048315</td>\n",
       "      <td>0</td>\n",
       "      <td>2019-01-01 00:00:18</td>\n",
       "      <td>2019</td>\n",
       "      <td>1</td>\n",
       "      <td>1</td>\n",
       "      <td>0</td>\n",
       "      <td>0</td>\n",
       "      <td>18</td>\n",
       "    </tr>\n",
       "    <tr>\n",
       "      <th>1</th>\n",
       "      <td>1</td>\n",
       "      <td>2019-01-01 00:00:44</td>\n",
       "      <td>630423337322</td>\n",
       "      <td>fraud_Heller, Gutmann and Zieme</td>\n",
       "      <td>grocery_pos</td>\n",
       "      <td>107.23</td>\n",
       "      <td>Stephanie</td>\n",
       "      <td>Gill</td>\n",
       "      <td>F</td>\n",
       "      <td>43039 Riley Greens Suite 393</td>\n",
       "      <td>Orient</td>\n",
       "      <td>WA</td>\n",
       "      <td>99160</td>\n",
       "      <td>48.8878</td>\n",
       "      <td>-118.2105</td>\n",
       "      <td>149</td>\n",
       "      <td>Special educational needs teacher</td>\n",
       "      <td>1978-06-21</td>\n",
       "      <td>1f76529f8574734946361c461b024d99</td>\n",
       "      <td>1325376044</td>\n",
       "      <td>49.159047</td>\n",
       "      <td>-118.186462</td>\n",
       "      <td>0</td>\n",
       "      <td>2019-01-01 00:00:44</td>\n",
       "      <td>2019</td>\n",
       "      <td>1</td>\n",
       "      <td>1</td>\n",
       "      <td>0</td>\n",
       "      <td>0</td>\n",
       "      <td>44</td>\n",
       "    </tr>\n",
       "    <tr>\n",
       "      <th>2</th>\n",
       "      <td>2</td>\n",
       "      <td>2019-01-01 00:00:51</td>\n",
       "      <td>38859492057661</td>\n",
       "      <td>fraud_Lind-Buckridge</td>\n",
       "      <td>entertainment</td>\n",
       "      <td>220.11</td>\n",
       "      <td>Edward</td>\n",
       "      <td>Sanchez</td>\n",
       "      <td>M</td>\n",
       "      <td>594 White Dale Suite 530</td>\n",
       "      <td>Malad City</td>\n",
       "      <td>ID</td>\n",
       "      <td>83252</td>\n",
       "      <td>42.1808</td>\n",
       "      <td>-112.2620</td>\n",
       "      <td>4154</td>\n",
       "      <td>Nature conservation officer</td>\n",
       "      <td>1962-01-19</td>\n",
       "      <td>a1a22d70485983eac12b5b88dad1cf95</td>\n",
       "      <td>1325376051</td>\n",
       "      <td>43.150704</td>\n",
       "      <td>-112.154481</td>\n",
       "      <td>0</td>\n",
       "      <td>2019-01-01 00:00:51</td>\n",
       "      <td>2019</td>\n",
       "      <td>1</td>\n",
       "      <td>1</td>\n",
       "      <td>0</td>\n",
       "      <td>0</td>\n",
       "      <td>51</td>\n",
       "    </tr>\n",
       "    <tr>\n",
       "      <th>3</th>\n",
       "      <td>3</td>\n",
       "      <td>2019-01-01 00:01:16</td>\n",
       "      <td>3534093764340240</td>\n",
       "      <td>fraud_Kutch, Hermiston and Farrell</td>\n",
       "      <td>gas_transport</td>\n",
       "      <td>45.00</td>\n",
       "      <td>Jeremy</td>\n",
       "      <td>White</td>\n",
       "      <td>M</td>\n",
       "      <td>9443 Cynthia Court Apt. 038</td>\n",
       "      <td>Boulder</td>\n",
       "      <td>MT</td>\n",
       "      <td>59632</td>\n",
       "      <td>46.2306</td>\n",
       "      <td>-112.1138</td>\n",
       "      <td>1939</td>\n",
       "      <td>Patent attorney</td>\n",
       "      <td>1967-01-12</td>\n",
       "      <td>6b849c168bdad6f867558c3793159a81</td>\n",
       "      <td>1325376076</td>\n",
       "      <td>47.034331</td>\n",
       "      <td>-112.561071</td>\n",
       "      <td>0</td>\n",
       "      <td>2019-01-01 00:01:16</td>\n",
       "      <td>2019</td>\n",
       "      <td>1</td>\n",
       "      <td>1</td>\n",
       "      <td>0</td>\n",
       "      <td>1</td>\n",
       "      <td>16</td>\n",
       "    </tr>\n",
       "    <tr>\n",
       "      <th>4</th>\n",
       "      <td>4</td>\n",
       "      <td>2019-01-01 00:03:06</td>\n",
       "      <td>375534208663984</td>\n",
       "      <td>fraud_Keeling-Crist</td>\n",
       "      <td>misc_pos</td>\n",
       "      <td>41.96</td>\n",
       "      <td>Tyler</td>\n",
       "      <td>Garcia</td>\n",
       "      <td>M</td>\n",
       "      <td>408 Bradley Rest</td>\n",
       "      <td>Doe Hill</td>\n",
       "      <td>VA</td>\n",
       "      <td>24433</td>\n",
       "      <td>38.4207</td>\n",
       "      <td>-79.4629</td>\n",
       "      <td>99</td>\n",
       "      <td>Dance movement psychotherapist</td>\n",
       "      <td>1986-03-28</td>\n",
       "      <td>a41d7549acf90789359a9aa5346dcb46</td>\n",
       "      <td>1325376186</td>\n",
       "      <td>38.674999</td>\n",
       "      <td>-78.632459</td>\n",
       "      <td>0</td>\n",
       "      <td>2019-01-01 00:03:06</td>\n",
       "      <td>2019</td>\n",
       "      <td>1</td>\n",
       "      <td>1</td>\n",
       "      <td>0</td>\n",
       "      <td>3</td>\n",
       "      <td>6</td>\n",
       "    </tr>\n",
       "  </tbody>\n",
       "</table>\n",
       "</div>"
      ],
      "text/plain": [
       "   Unnamed: 0 trans_date_trans_time            cc_num  \\\n",
       "0           0   2019-01-01 00:00:18  2703186189652095   \n",
       "1           1   2019-01-01 00:00:44      630423337322   \n",
       "2           2   2019-01-01 00:00:51    38859492057661   \n",
       "3           3   2019-01-01 00:01:16  3534093764340240   \n",
       "4           4   2019-01-01 00:03:06   375534208663984   \n",
       "\n",
       "                             merchant       category     amt      first  \\\n",
       "0          fraud_Rippin, Kub and Mann       misc_net    4.97   Jennifer   \n",
       "1     fraud_Heller, Gutmann and Zieme    grocery_pos  107.23  Stephanie   \n",
       "2                fraud_Lind-Buckridge  entertainment  220.11     Edward   \n",
       "3  fraud_Kutch, Hermiston and Farrell  gas_transport   45.00     Jeremy   \n",
       "4                 fraud_Keeling-Crist       misc_pos   41.96      Tyler   \n",
       "\n",
       "      last gender                        street            city state    zip  \\\n",
       "0    Banks      F                561 Perry Cove  Moravian Falls    NC  28654   \n",
       "1     Gill      F  43039 Riley Greens Suite 393          Orient    WA  99160   \n",
       "2  Sanchez      M      594 White Dale Suite 530      Malad City    ID  83252   \n",
       "3    White      M   9443 Cynthia Court Apt. 038         Boulder    MT  59632   \n",
       "4   Garcia      M              408 Bradley Rest        Doe Hill    VA  24433   \n",
       "\n",
       "       lat      long  city_pop                                job         dob  \\\n",
       "0  36.0788  -81.1781      3495          Psychologist, counselling  1988-03-09   \n",
       "1  48.8878 -118.2105       149  Special educational needs teacher  1978-06-21   \n",
       "2  42.1808 -112.2620      4154        Nature conservation officer  1962-01-19   \n",
       "3  46.2306 -112.1138      1939                    Patent attorney  1967-01-12   \n",
       "4  38.4207  -79.4629        99     Dance movement psychotherapist  1986-03-28   \n",
       "\n",
       "                          trans_num   unix_time  merch_lat  merch_long  \\\n",
       "0  0b242abb623afc578575680df30655b9  1325376018  36.011293  -82.048315   \n",
       "1  1f76529f8574734946361c461b024d99  1325376044  49.159047 -118.186462   \n",
       "2  a1a22d70485983eac12b5b88dad1cf95  1325376051  43.150704 -112.154481   \n",
       "3  6b849c168bdad6f867558c3793159a81  1325376076  47.034331 -112.561071   \n",
       "4  a41d7549acf90789359a9aa5346dcb46  1325376186  38.674999  -78.632459   \n",
       "\n",
       "   is_fraud    transaction_date  year  month  day  hour  minute  second  \n",
       "0         0 2019-01-01 00:00:18  2019      1    1     0       0      18  \n",
       "1         0 2019-01-01 00:00:44  2019      1    1     0       0      44  \n",
       "2         0 2019-01-01 00:00:51  2019      1    1     0       0      51  \n",
       "3         0 2019-01-01 00:01:16  2019      1    1     0       1      16  \n",
       "4         0 2019-01-01 00:03:06  2019      1    1     0       3       6  "
      ]
     },
     "execution_count": 12,
     "metadata": {},
     "output_type": "execute_result"
    }
   ],
   "source": [
    "df.head()"
   ]
  },
  {
   "cell_type": "code",
   "execution_count": 13,
   "id": "2e35f254",
   "metadata": {},
   "outputs": [],
   "source": [
    "# Dropping columns that are not important\n",
    "df.drop(['Unnamed: 0', 'street', 'dob', \n",
    "         'trans_date_trans_time', 'trans_num', \n",
    "         'unix_time', 'transaction_date'],\n",
    "       axis = 1, inplace = True)"
   ]
  },
  {
   "cell_type": "code",
   "execution_count": 14,
   "id": "9848e4d3",
   "metadata": {},
   "outputs": [
    {
     "data": {
      "text/html": [
       "<div>\n",
       "<style scoped>\n",
       "    .dataframe tbody tr th:only-of-type {\n",
       "        vertical-align: middle;\n",
       "    }\n",
       "\n",
       "    .dataframe tbody tr th {\n",
       "        vertical-align: top;\n",
       "    }\n",
       "\n",
       "    .dataframe thead th {\n",
       "        text-align: right;\n",
       "    }\n",
       "</style>\n",
       "<table border=\"1\" class=\"dataframe\">\n",
       "  <thead>\n",
       "    <tr style=\"text-align: right;\">\n",
       "      <th></th>\n",
       "      <th>cc_num</th>\n",
       "      <th>merchant</th>\n",
       "      <th>category</th>\n",
       "      <th>amt</th>\n",
       "      <th>first</th>\n",
       "      <th>last</th>\n",
       "      <th>gender</th>\n",
       "      <th>city</th>\n",
       "      <th>state</th>\n",
       "      <th>zip</th>\n",
       "      <th>lat</th>\n",
       "      <th>long</th>\n",
       "      <th>city_pop</th>\n",
       "      <th>job</th>\n",
       "      <th>merch_lat</th>\n",
       "      <th>merch_long</th>\n",
       "      <th>is_fraud</th>\n",
       "      <th>year</th>\n",
       "      <th>month</th>\n",
       "      <th>day</th>\n",
       "      <th>hour</th>\n",
       "      <th>minute</th>\n",
       "      <th>second</th>\n",
       "    </tr>\n",
       "  </thead>\n",
       "  <tbody>\n",
       "    <tr>\n",
       "      <th>0</th>\n",
       "      <td>2703186189652095</td>\n",
       "      <td>fraud_Rippin, Kub and Mann</td>\n",
       "      <td>misc_net</td>\n",
       "      <td>4.97</td>\n",
       "      <td>Jennifer</td>\n",
       "      <td>Banks</td>\n",
       "      <td>F</td>\n",
       "      <td>Moravian Falls</td>\n",
       "      <td>NC</td>\n",
       "      <td>28654</td>\n",
       "      <td>36.0788</td>\n",
       "      <td>-81.1781</td>\n",
       "      <td>3495</td>\n",
       "      <td>Psychologist, counselling</td>\n",
       "      <td>36.011293</td>\n",
       "      <td>-82.048315</td>\n",
       "      <td>0</td>\n",
       "      <td>2019</td>\n",
       "      <td>1</td>\n",
       "      <td>1</td>\n",
       "      <td>0</td>\n",
       "      <td>0</td>\n",
       "      <td>18</td>\n",
       "    </tr>\n",
       "    <tr>\n",
       "      <th>1</th>\n",
       "      <td>630423337322</td>\n",
       "      <td>fraud_Heller, Gutmann and Zieme</td>\n",
       "      <td>grocery_pos</td>\n",
       "      <td>107.23</td>\n",
       "      <td>Stephanie</td>\n",
       "      <td>Gill</td>\n",
       "      <td>F</td>\n",
       "      <td>Orient</td>\n",
       "      <td>WA</td>\n",
       "      <td>99160</td>\n",
       "      <td>48.8878</td>\n",
       "      <td>-118.2105</td>\n",
       "      <td>149</td>\n",
       "      <td>Special educational needs teacher</td>\n",
       "      <td>49.159047</td>\n",
       "      <td>-118.186462</td>\n",
       "      <td>0</td>\n",
       "      <td>2019</td>\n",
       "      <td>1</td>\n",
       "      <td>1</td>\n",
       "      <td>0</td>\n",
       "      <td>0</td>\n",
       "      <td>44</td>\n",
       "    </tr>\n",
       "    <tr>\n",
       "      <th>2</th>\n",
       "      <td>38859492057661</td>\n",
       "      <td>fraud_Lind-Buckridge</td>\n",
       "      <td>entertainment</td>\n",
       "      <td>220.11</td>\n",
       "      <td>Edward</td>\n",
       "      <td>Sanchez</td>\n",
       "      <td>M</td>\n",
       "      <td>Malad City</td>\n",
       "      <td>ID</td>\n",
       "      <td>83252</td>\n",
       "      <td>42.1808</td>\n",
       "      <td>-112.2620</td>\n",
       "      <td>4154</td>\n",
       "      <td>Nature conservation officer</td>\n",
       "      <td>43.150704</td>\n",
       "      <td>-112.154481</td>\n",
       "      <td>0</td>\n",
       "      <td>2019</td>\n",
       "      <td>1</td>\n",
       "      <td>1</td>\n",
       "      <td>0</td>\n",
       "      <td>0</td>\n",
       "      <td>51</td>\n",
       "    </tr>\n",
       "    <tr>\n",
       "      <th>3</th>\n",
       "      <td>3534093764340240</td>\n",
       "      <td>fraud_Kutch, Hermiston and Farrell</td>\n",
       "      <td>gas_transport</td>\n",
       "      <td>45.00</td>\n",
       "      <td>Jeremy</td>\n",
       "      <td>White</td>\n",
       "      <td>M</td>\n",
       "      <td>Boulder</td>\n",
       "      <td>MT</td>\n",
       "      <td>59632</td>\n",
       "      <td>46.2306</td>\n",
       "      <td>-112.1138</td>\n",
       "      <td>1939</td>\n",
       "      <td>Patent attorney</td>\n",
       "      <td>47.034331</td>\n",
       "      <td>-112.561071</td>\n",
       "      <td>0</td>\n",
       "      <td>2019</td>\n",
       "      <td>1</td>\n",
       "      <td>1</td>\n",
       "      <td>0</td>\n",
       "      <td>1</td>\n",
       "      <td>16</td>\n",
       "    </tr>\n",
       "    <tr>\n",
       "      <th>4</th>\n",
       "      <td>375534208663984</td>\n",
       "      <td>fraud_Keeling-Crist</td>\n",
       "      <td>misc_pos</td>\n",
       "      <td>41.96</td>\n",
       "      <td>Tyler</td>\n",
       "      <td>Garcia</td>\n",
       "      <td>M</td>\n",
       "      <td>Doe Hill</td>\n",
       "      <td>VA</td>\n",
       "      <td>24433</td>\n",
       "      <td>38.4207</td>\n",
       "      <td>-79.4629</td>\n",
       "      <td>99</td>\n",
       "      <td>Dance movement psychotherapist</td>\n",
       "      <td>38.674999</td>\n",
       "      <td>-78.632459</td>\n",
       "      <td>0</td>\n",
       "      <td>2019</td>\n",
       "      <td>1</td>\n",
       "      <td>1</td>\n",
       "      <td>0</td>\n",
       "      <td>3</td>\n",
       "      <td>6</td>\n",
       "    </tr>\n",
       "  </tbody>\n",
       "</table>\n",
       "</div>"
      ],
      "text/plain": [
       "             cc_num                            merchant       category  \\\n",
       "0  2703186189652095          fraud_Rippin, Kub and Mann       misc_net   \n",
       "1      630423337322     fraud_Heller, Gutmann and Zieme    grocery_pos   \n",
       "2    38859492057661                fraud_Lind-Buckridge  entertainment   \n",
       "3  3534093764340240  fraud_Kutch, Hermiston and Farrell  gas_transport   \n",
       "4   375534208663984                 fraud_Keeling-Crist       misc_pos   \n",
       "\n",
       "      amt      first     last gender            city state    zip      lat  \\\n",
       "0    4.97   Jennifer    Banks      F  Moravian Falls    NC  28654  36.0788   \n",
       "1  107.23  Stephanie     Gill      F          Orient    WA  99160  48.8878   \n",
       "2  220.11     Edward  Sanchez      M      Malad City    ID  83252  42.1808   \n",
       "3   45.00     Jeremy    White      M         Boulder    MT  59632  46.2306   \n",
       "4   41.96      Tyler   Garcia      M        Doe Hill    VA  24433  38.4207   \n",
       "\n",
       "       long  city_pop                                job  merch_lat  \\\n",
       "0  -81.1781      3495          Psychologist, counselling  36.011293   \n",
       "1 -118.2105       149  Special educational needs teacher  49.159047   \n",
       "2 -112.2620      4154        Nature conservation officer  43.150704   \n",
       "3 -112.1138      1939                    Patent attorney  47.034331   \n",
       "4  -79.4629        99     Dance movement psychotherapist  38.674999   \n",
       "\n",
       "   merch_long  is_fraud  year  month  day  hour  minute  second  \n",
       "0  -82.048315         0  2019      1    1     0       0      18  \n",
       "1 -118.186462         0  2019      1    1     0       0      44  \n",
       "2 -112.154481         0  2019      1    1     0       0      51  \n",
       "3 -112.561071         0  2019      1    1     0       1      16  \n",
       "4  -78.632459         0  2019      1    1     0       3       6  "
      ]
     },
     "execution_count": 14,
     "metadata": {},
     "output_type": "execute_result"
    }
   ],
   "source": [
    "df.head()"
   ]
  },
  {
   "cell_type": "code",
   "execution_count": null,
   "id": "ee1453e6",
   "metadata": {},
   "outputs": [],
   "source": [
    "# Plotting long and latitude along with merchant longitude and latitude (coordinates)\n",
    "plt.scatter(df['lat'], df['long'])\n",
    "plt.scatter(df['merch_lat'], df['merch_long'])\n",
    "plt.show()"
   ]
  },
  {
   "cell_type": "code",
   "execution_count": null,
   "id": "8e12e2ec",
   "metadata": {},
   "outputs": [],
   "source": [
    "categorical_features = ['merchant','category', 'cc_num', 'first', 'last', 'gender', \n",
    "                        'city', 'state', 'job','zip', 'year', 'month', 'day',\n",
    "                       'hour', 'minute', 'second']\n",
    "\n",
    "df_categorical = df[categorical_features]"
   ]
  },
  {
   "cell_type": "code",
   "execution_count": null,
   "id": "00cff6e0",
   "metadata": {},
   "outputs": [],
   "source": [
    "# This code cell plots the count of each of the categories with countplots\n",
    "fig, ax = plt.subplots(2, 2, figsize = (10, 10))\n",
    "\n",
    "sns.countplot(x = 'category', data = df_categorical, ax = ax[0, 0])\n",
    "sns.countplot(x = 'gender', data = df_categorical, ax = ax[0, 1])\n",
    "sns.countplot(x = 'state', data = df_categorical, ax = ax[1, 0])\n",
    "\n",
    "# Rotate x-tick labels by 45 degrees for all subplots\n",
    "for i in range(2):\n",
    "    for j in range(2):\n",
    "        ax[i, j].set_xticklabels(ax[i, j].get_xticklabels(), rotation=90)\n",
    "    \n",
    "plt.tight_layout()\n",
    "plt.show()"
   ]
  },
  {
   "cell_type": "code",
   "execution_count": null,
   "id": "4a770b9c",
   "metadata": {},
   "outputs": [],
   "source": [
    "sns.heatmap(df.corr(), annot = True)"
   ]
  },
  {
   "cell_type": "code",
   "execution_count": null,
   "id": "13625807",
   "metadata": {},
   "outputs": [],
   "source": [
    "df['is_fraud'].value_counts().plot(kind = 'bar')\n",
    "plt.title(\"Fraud Vs. Non Fraud Cases\")\n",
    "plt.xlabel(\"Fraud\")\n",
    "plt.ylabel(\"Total Cases\")\n",
    "plt.legend(['Non Fraud', 'Fraud'])\n",
    "plt.show()"
   ]
  },
  {
   "cell_type": "code",
   "execution_count": null,
   "id": "964655db",
   "metadata": {
    "scrolled": false
   },
   "outputs": [],
   "source": [
    "df['gender'].value_counts().plot(kind = 'bar')\n",
    "plt.title(\"Gender Countplot\")\n",
    "plt.xlabel(\"Gender\")\n",
    "plt.ylabel(\"Total Records\")\n",
    "plt.show()"
   ]
  },
  {
   "cell_type": "code",
   "execution_count": null,
   "id": "021381b8",
   "metadata": {},
   "outputs": [],
   "source": [
    "X = df.drop(['is_fraud'], axis = 1)\n",
    "y = df['is_fraud'].values.reshape(-1, 1)"
   ]
  },
  {
   "cell_type": "code",
   "execution_count": null,
   "id": "7ee1431c",
   "metadata": {},
   "outputs": [],
   "source": [
    "X_train, X_test, y_train, y_test = train_test_split(X, y, test_size = 0.2, random_state = 101,\n",
    "                                     shuffle = True, stratify = y)"
   ]
  },
  {
   "cell_type": "code",
   "execution_count": null,
   "id": "b7923555",
   "metadata": {},
   "outputs": [],
   "source": [
    "print(\"The shape of the input data: {}\".format(X.shape))\n",
    "print(\"The shape of the output data: {}\".format(y.shape))"
   ]
  },
  {
   "cell_type": "code",
   "execution_count": null,
   "id": "b273bc63",
   "metadata": {},
   "outputs": [],
   "source": [
    "X_train.reset_index(drop = True, inplace = True)\n",
    "X_test.reset_index(drop = True, inplace = True)"
   ]
  },
  {
   "cell_type": "code",
   "execution_count": null,
   "id": "4317c2e1",
   "metadata": {},
   "outputs": [],
   "source": [
    "print(\"The shape of the train data: {}\".format(X_train.shape))\n",
    "print(\"The shape of the test data: {}\".format(X_test.shape))"
   ]
  },
  {
   "cell_type": "code",
   "execution_count": null,
   "id": "d95477cd",
   "metadata": {},
   "outputs": [],
   "source": [
    "fraud_cases = df[df['is_fraud'] == 1]\n",
    "non_fraud_cases = df[df['is_fraud'] == 0]"
   ]
  },
  {
   "cell_type": "code",
   "execution_count": null,
   "id": "a2376bb6",
   "metadata": {
    "scrolled": false
   },
   "outputs": [],
   "source": [
    "df['state'].value_counts().plot(kind = 'bar', color = 'orange')\n",
    "plt.show()"
   ]
  },
  {
   "cell_type": "code",
   "execution_count": null,
   "id": "8a18210c",
   "metadata": {},
   "outputs": [],
   "source": [
    "df.head()"
   ]
  },
  {
   "cell_type": "code",
   "execution_count": null,
   "id": "e40305f6",
   "metadata": {},
   "outputs": [],
   "source": [
    "df.groupby(by = 'state')['amt'].mean().sort_values().plot(kind = 'bar', color = 'purple')\n",
    "plt.show()"
   ]
  },
  {
   "cell_type": "code",
   "execution_count": null,
   "id": "44a012ea",
   "metadata": {},
   "outputs": [],
   "source": [
    "df.groupby(by = 'cc_num')['amt'].mean().sort_values(ascending = False)[0: 10].plot(kind = 'bar', color = 'grey')"
   ]
  },
  {
   "cell_type": "code",
   "execution_count": null,
   "id": "3a164cc1",
   "metadata": {},
   "outputs": [],
   "source": [
    "fraud_cases['category'].value_counts().plot(kind = 'bar')"
   ]
  },
  {
   "cell_type": "code",
   "execution_count": null,
   "id": "189281d4",
   "metadata": {},
   "outputs": [],
   "source": [
    "non_fraud_cases['category'].value_counts().plot(kind = 'bar', color = 'green')"
   ]
  },
  {
   "cell_type": "markdown",
   "id": "3ca64e95",
   "metadata": {},
   "source": [
    "### One-Hot Encoding"
   ]
  },
  {
   "cell_type": "code",
   "execution_count": null,
   "id": "835bd5d8",
   "metadata": {},
   "outputs": [],
   "source": [
    "from sklearn.preprocessing import OneHotEncoder"
   ]
  },
  {
   "cell_type": "code",
   "execution_count": null,
   "id": "f4b99104",
   "metadata": {},
   "outputs": [],
   "source": [
    "categorical_features = ['merchant','category', 'first', 'last', 'gender', \n",
    "                        'city', 'state', 'job', 'year', 'month', 'day',\n",
    "                       'hour', 'minute', 'second']\n",
    "X_train_numerical = X_train.drop(categorical_features, axis = 1)\n",
    "X_test_numerical = X_test.drop(categorical_features, axis = 1)"
   ]
  },
  {
   "cell_type": "code",
   "execution_count": null,
   "id": "15ae2e59",
   "metadata": {},
   "outputs": [],
   "source": [
    "X_train_numerical.head()"
   ]
  },
  {
   "cell_type": "code",
   "execution_count": null,
   "id": "214a5aaa",
   "metadata": {},
   "outputs": [],
   "source": [
    "X_train_categorical = X_train[categorical_features]\n",
    "X_test_categorical = X_test[categorical_features]"
   ]
  },
  {
   "cell_type": "code",
   "execution_count": null,
   "id": "0c862558",
   "metadata": {},
   "outputs": [],
   "source": [
    "encoder = OneHotEncoder(handle_unknown = 'ignore')\n",
    "X_train_ohe = encoder.fit_transform(X_train_categorical)\n",
    "X_test_ohe = encoder.transform(X_test_categorical)"
   ]
  },
  {
   "cell_type": "code",
   "execution_count": null,
   "id": "e0fb169e",
   "metadata": {},
   "outputs": [],
   "source": [
    "from scipy.sparse import hstack"
   ]
  },
  {
   "cell_type": "code",
   "execution_count": null,
   "id": "007013b3",
   "metadata": {},
   "outputs": [],
   "source": [
    "X_train_encoded = hstack((X_train_numerical.values, X_train_ohe))\n",
    "X_test_encoded = hstack((X_test_numerical.values, X_test_ohe))"
   ]
  },
  {
   "cell_type": "code",
   "execution_count": null,
   "id": "608f09b3",
   "metadata": {},
   "outputs": [],
   "source": [
    "X_train_encoded.shape"
   ]
  },
  {
   "cell_type": "markdown",
   "id": "6abcbfdc",
   "metadata": {},
   "source": [
    "### Training an ML Model"
   ]
  },
  {
   "cell_type": "code",
   "execution_count": null,
   "id": "9aafed49",
   "metadata": {},
   "outputs": [],
   "source": [
    "import xgboost as xgb\n",
    "from sklearn.metrics import classification_report, confusion_matrix"
   ]
  },
  {
   "cell_type": "code",
   "execution_count": null,
   "id": "8a7ee543",
   "metadata": {},
   "outputs": [],
   "source": [
    "# This cell can take about 5 mins as we are training a large dataset\n",
    "xgb_model = xgb.XGBClassifier(n_estimators = 25, max_depth = 3, random_state = 101)\n",
    "xgb_model.fit(X_train_encoded, y_train)"
   ]
  },
  {
   "cell_type": "code",
   "execution_count": null,
   "id": "b663cfee",
   "metadata": {},
   "outputs": [],
   "source": [
    "y_predictions = xgb_model.predict(X_test_encoded)"
   ]
  },
  {
   "cell_type": "code",
   "execution_count": null,
   "id": "f5a452c4",
   "metadata": {},
   "outputs": [],
   "source": [
    "print(classification_report(y_test, y_predictions))"
   ]
  },
  {
   "cell_type": "code",
   "execution_count": null,
   "id": "2b677d6c",
   "metadata": {},
   "outputs": [],
   "source": [
    "confusion_matrix(y_test, y_predictions)"
   ]
  },
  {
   "cell_type": "markdown",
   "id": "f2054463",
   "metadata": {},
   "source": [
    "### Training an ML Model with Feature Engineering"
   ]
  },
  {
   "cell_type": "code",
   "execution_count": null,
   "id": "13884491",
   "metadata": {},
   "outputs": [],
   "source": [
    "# Defining utility functions that are used later in code \n",
    "\n",
    "def euclidean_distance(lat1, long1, lat2, long2):\n",
    "    \n",
    "    dlat = lat2 - lat1\n",
    "    dlong = long2 - long1\n",
    "    euclidean_distance = (dlat ** 2 + dlong ** 2) ** 0.5\n",
    "    \n",
    "    return euclidean_distance\n",
    "\n",
    "def big_transaction(data, amount = 5000):\n",
    "    \n",
    "    if data > amount:\n",
    "        return 1\n",
    "    else:\n",
    "        return 0"
   ]
  },
  {
   "cell_type": "code",
   "execution_count": null,
   "id": "56421118",
   "metadata": {},
   "outputs": [],
   "source": [
    "X_train.head()"
   ]
  },
  {
   "cell_type": "code",
   "execution_count": null,
   "id": "9698f5c0",
   "metadata": {},
   "outputs": [],
   "source": [
    "merchant_and_fraud = df_train.groupby(['is_fraud', 'merchant']).mean()['amt'].reset_index()"
   ]
  },
  {
   "cell_type": "code",
   "execution_count": null,
   "id": "7cd1d058",
   "metadata": {},
   "outputs": [],
   "source": [
    "df_merchant_and_non_fraud = merchant_and_fraud[merchant_and_fraud['is_fraud'] == 0].drop('is_fraud', axis = 1)\n",
    "df_merchant_and_fraud = merchant_and_fraud[merchant_and_fraud['is_fraud'] == 1].drop('is_fraud', axis = 1)"
   ]
  },
  {
   "cell_type": "code",
   "execution_count": null,
   "id": "93e03297",
   "metadata": {},
   "outputs": [],
   "source": [
    "df_merchant_and_non_fraud.groupby(by = 'merchant').sum()['amt']"
   ]
  },
  {
   "cell_type": "code",
   "execution_count": 161,
   "id": "138ae443",
   "metadata": {},
   "outputs": [],
   "source": [
    "# Creating new features from train data\n",
    "X_train['category_mean'] = X_train['category'].map(X_train.groupby(by = 'category').mean()['amt'])\n",
    "X_train['city_mean'] = X_train['city'].map(X_train.groupby(by = 'city').mean()['amt'])\n",
    "X_train['state_mean'] = X_train['state'].map(X_train.groupby(by = 'state').mean()['amt'])\n",
    "X_train['city_min'] = X_train['city'].map(X_train.groupby(by = 'city').min()['amt'])\n",
    "X_train['city_max'] = X_train['city'].map(X_train.groupby(by = 'city').max()['amt'])\n",
    "X_train['job_mean'] = X_train['job'].map(X_train.groupby(by = 'job').mean()['amt'])\n",
    "\n",
    "# Creating new features from test data\n",
    "X_test['category_mean'] = X_test['category'].map(X_train.groupby(by = 'category').mean()['amt'])\n",
    "X_test['city_mean'] = X_test['city'].map(X_train.groupby(by = 'city').mean()['amt'])\n",
    "X_test['state_mean'] = X_test['state'].map(X_train.groupby(by = 'state').mean()['amt'])\n",
    "X_test['city_min'] = X_test['city'].map(X_train.groupby(by = 'city').min()['amt'])\n",
    "X_test['city_max'] = X_test['city'].map(X_train.groupby(by = 'city').max()['amt'])\n",
    "X_test['job_mean'] = X_test['job'].map(X_train.groupby(by = 'job').mean()['amt'])"
   ]
  },
  {
   "cell_type": "code",
   "execution_count": 162,
   "id": "dc5af9e5",
   "metadata": {},
   "outputs": [],
   "source": [
    "lat1 = X_train['lat']\n",
    "long1 = X_train['long']\n",
    "lat2 = X_train['merch_lat']\n",
    "long2 = X_train['merch_long']\n",
    "\n",
    "X_train['euclidean_distance'] = euclidean_distance(lat1, long1, lat2, long2)\n",
    "# df_train['euclidean_distance'] = euclidean_distance(lat1, long1, lat2, long2)"
   ]
  },
  {
   "cell_type": "code",
   "execution_count": 163,
   "id": "8fceb52f",
   "metadata": {},
   "outputs": [],
   "source": [
    "lat1 = X_test['lat']\n",
    "long1 = X_test['long']\n",
    "lat2 = X_test['merch_lat']\n",
    "long2 = X_test['merch_long']\n",
    "\n",
    "X_test['euclidean_distance'] = euclidean_distance(lat1, long1, lat2, long2)\n",
    "# df_test['euclidean_distance'] = euclidean_distance(lat1, long1, lat2, long2)"
   ]
  },
  {
   "cell_type": "code",
   "execution_count": 164,
   "id": "be36ef5e",
   "metadata": {},
   "outputs": [],
   "source": [
    "X_train['big_transaction'] = X_train['amt'].apply(big_transaction)\n",
    "X_test['big_transaction'] = X_test['amt'].apply(big_transaction)\n",
    "df_train['big_transaction'] = df_train['amt'].apply(big_transaction)\n",
    "df_test['big_transaction'] = df_test['amt'].apply(big_transaction)"
   ]
  },
  {
   "cell_type": "code",
   "execution_count": 166,
   "id": "d6d27aa4",
   "metadata": {},
   "outputs": [],
   "source": [
    "categorical_features = ['merchant','category', 'first', 'last', 'gender', \n",
    "                        'city', 'state', 'job', 'year', 'month', 'day',\n",
    "                       'hour', 'minute', 'second']\n",
    "X_train_numerical = X_train.drop(categorical_features, axis = 1)\n",
    "X_test_numerical = X_test.drop(categorical_features, axis = 1)"
   ]
  },
  {
   "cell_type": "code",
   "execution_count": 167,
   "id": "261b77d1",
   "metadata": {},
   "outputs": [],
   "source": [
    "X_train_categorical = X_train[categorical_features]\n",
    "X_test_categorical = X_test[categorical_features]"
   ]
  },
  {
   "cell_type": "code",
   "execution_count": 168,
   "id": "3820057c",
   "metadata": {},
   "outputs": [],
   "source": [
    "encoder = OneHotEncoder(handle_unknown = 'ignore')\n",
    "X_train_ohe = encoder.fit_transform(X_train_categorical)\n",
    "X_test_ohe = encoder.transform(X_test_categorical)"
   ]
  },
  {
   "cell_type": "code",
   "execution_count": 169,
   "id": "e4170db2",
   "metadata": {},
   "outputs": [],
   "source": [
    "numerical_features = X_train_numerical.columns\n",
    "encoded_features = encoder.get_feature_names()"
   ]
  },
  {
   "cell_type": "code",
   "execution_count": 170,
   "id": "c6772664",
   "metadata": {},
   "outputs": [
    {
     "data": {
      "text/plain": [
       "Index(['amt', 'lat', 'long', 'city_pop', 'merch_lat', 'merch_long',\n",
       "       'category_mean', 'city_mean', 'state_mean', 'merchant_and_fraud',\n",
       "       'merchant_and_non_fraud', 'euclidean_distance', 'big_transaction',\n",
       "       'city_min', 'city_max', 'job_mean'],\n",
       "      dtype='object')"
      ]
     },
     "execution_count": 170,
     "metadata": {},
     "output_type": "execute_result"
    }
   ],
   "source": [
    "numerical_features"
   ]
  },
  {
   "cell_type": "code",
   "execution_count": 171,
   "id": "4d4d2b5a",
   "metadata": {},
   "outputs": [],
   "source": [
    "X_train_encoded = hstack((X_train_numerical.values, X_train_ohe))\n",
    "X_test_encoded = hstack((X_test_numerical.values, X_test_ohe))"
   ]
  },
  {
   "cell_type": "code",
   "execution_count": 172,
   "id": "782790e7",
   "metadata": {},
   "outputs": [
    {
     "name": "stdout",
     "output_type": "stream",
     "text": [
      "[16:15:50] WARNING: C:\\Windows\\Temp\\abs_557yfx631l\\croots\\recipe\\xgboost-split_1659548953302\\work\\src\\learner.cc:1115: Starting in XGBoost 1.3.0, the default evaluation metric used with the objective 'binary:logistic' was changed from 'error' to 'logloss'. Explicitly set eval_metric if you'd like to restore the old behavior.\n"
     ]
    },
    {
     "data": {
      "text/plain": [
       "XGBClassifier(base_score=0.5, booster='gbtree', colsample_bylevel=1,\n",
       "              colsample_bynode=1, colsample_bytree=1, enable_categorical=False,\n",
       "              gamma=0, gpu_id=-1, importance_type=None,\n",
       "              interaction_constraints='', learning_rate=0.300000012,\n",
       "              max_delta_step=0, max_depth=3, min_child_weight=1, missing=nan,\n",
       "              monotone_constraints='()', n_estimators=25, n_jobs=30,\n",
       "              num_parallel_tree=1, predictor='auto', random_state=101,\n",
       "              reg_alpha=0, reg_lambda=1, scale_pos_weight=1, subsample=1,\n",
       "              tree_method='exact', validate_parameters=1, verbosity=None)"
      ]
     },
     "execution_count": 172,
     "metadata": {},
     "output_type": "execute_result"
    }
   ],
   "source": [
    "# This cell can take about 5-10 mins as we are training a large dataset\n",
    "xgb_model = xgb.XGBClassifier(n_estimators = 25, max_depth = 3, random_state = 101, n_jobs = 30)\n",
    "xgb_model.fit(X_train_encoded, y_train)"
   ]
  },
  {
   "cell_type": "code",
   "execution_count": 173,
   "id": "d09dbc85",
   "metadata": {},
   "outputs": [],
   "source": [
    "y_predictions = xgb_model.predict(X_test_encoded)"
   ]
  },
  {
   "cell_type": "code",
   "execution_count": 174,
   "id": "e4ddb72d",
   "metadata": {},
   "outputs": [
    {
     "name": "stdout",
     "output_type": "stream",
     "text": [
      "              precision    recall  f1-score   support\n",
      "\n",
      "           0       1.00      1.00      1.00    258251\n",
      "           1       0.67      0.92      0.77      1084\n",
      "\n",
      "    accuracy                           1.00    259335\n",
      "   macro avg       0.83      0.96      0.89    259335\n",
      "weighted avg       1.00      1.00      1.00    259335\n",
      "\n"
     ]
    }
   ],
   "source": [
    "print(classification_report(y_predictions, y_test))"
   ]
  },
  {
   "cell_type": "code",
   "execution_count": 175,
   "id": "e5555262",
   "metadata": {},
   "outputs": [
    {
     "data": {
      "text/plain": [
       "array([[257751,     83],\n",
       "       [   500,   1001]], dtype=int64)"
      ]
     },
     "execution_count": 175,
     "metadata": {},
     "output_type": "execute_result"
    }
   ],
   "source": [
    "confusion_matrix(y_test, y_predictions)"
   ]
  },
  {
   "cell_type": "code",
   "execution_count": 176,
   "id": "a93bcd46",
   "metadata": {},
   "outputs": [
    {
     "data": {
      "text/plain": [
       "<1037340x3186 sparse matrix of type '<class 'numpy.float64'>'\n",
       "\twith 30082962 stored elements in COOrdinate format>"
      ]
     },
     "execution_count": 176,
     "metadata": {},
     "output_type": "execute_result"
    }
   ],
   "source": [
    "X_train_encoded"
   ]
  },
  {
   "cell_type": "code",
   "execution_count": 177,
   "id": "54dd1e88",
   "metadata": {},
   "outputs": [
    {
     "data": {
      "text/html": [
       "<div>\n",
       "<style scoped>\n",
       "    .dataframe tbody tr th:only-of-type {\n",
       "        vertical-align: middle;\n",
       "    }\n",
       "\n",
       "    .dataframe tbody tr th {\n",
       "        vertical-align: top;\n",
       "    }\n",
       "\n",
       "    .dataframe thead th {\n",
       "        text-align: right;\n",
       "    }\n",
       "</style>\n",
       "<table border=\"1\" class=\"dataframe\">\n",
       "  <thead>\n",
       "    <tr style=\"text-align: right;\">\n",
       "      <th></th>\n",
       "      <th>merchant</th>\n",
       "      <th>category</th>\n",
       "      <th>amt</th>\n",
       "      <th>first</th>\n",
       "      <th>last</th>\n",
       "      <th>gender</th>\n",
       "      <th>city</th>\n",
       "      <th>state</th>\n",
       "      <th>lat</th>\n",
       "      <th>long</th>\n",
       "      <th>...</th>\n",
       "      <th>category_mean</th>\n",
       "      <th>city_mean</th>\n",
       "      <th>state_mean</th>\n",
       "      <th>merchant_and_fraud</th>\n",
       "      <th>merchant_and_non_fraud</th>\n",
       "      <th>euclidean_distance</th>\n",
       "      <th>big_transaction</th>\n",
       "      <th>city_min</th>\n",
       "      <th>city_max</th>\n",
       "      <th>job_mean</th>\n",
       "    </tr>\n",
       "  </thead>\n",
       "  <tbody>\n",
       "    <tr>\n",
       "      <th>0</th>\n",
       "      <td>fraud_Crona and Sons</td>\n",
       "      <td>kids_pets</td>\n",
       "      <td>7.26</td>\n",
       "      <td>Martin</td>\n",
       "      <td>Ford</td>\n",
       "      <td>M</td>\n",
       "      <td>Corriganville</td>\n",
       "      <td>MD</td>\n",
       "      <td>39.6967</td>\n",
       "      <td>-78.8031</td>\n",
       "      <td>...</td>\n",
       "      <td>57.604905</td>\n",
       "      <td>63.258911</td>\n",
       "      <td>65.936879</td>\n",
       "      <td>18.760000</td>\n",
       "      <td>57.577475</td>\n",
       "      <td>0.435773</td>\n",
       "      <td>0</td>\n",
       "      <td>1.02</td>\n",
       "      <td>4215.99</td>\n",
       "      <td>60.036652</td>\n",
       "    </tr>\n",
       "    <tr>\n",
       "      <th>1</th>\n",
       "      <td>fraud_Kiehn Inc</td>\n",
       "      <td>grocery_pos</td>\n",
       "      <td>141.52</td>\n",
       "      <td>Jessica</td>\n",
       "      <td>Garcia</td>\n",
       "      <td>F</td>\n",
       "      <td>Mc Cracken</td>\n",
       "      <td>KS</td>\n",
       "      <td>38.5957</td>\n",
       "      <td>-99.5540</td>\n",
       "      <td>...</td>\n",
       "      <td>116.959903</td>\n",
       "      <td>62.506844</td>\n",
       "      <td>69.539323</td>\n",
       "      <td>317.373600</td>\n",
       "      <td>113.377140</td>\n",
       "      <td>0.464279</td>\n",
       "      <td>0</td>\n",
       "      <td>1.04</td>\n",
       "      <td>2838.23</td>\n",
       "      <td>78.029582</td>\n",
       "    </tr>\n",
       "    <tr>\n",
       "      <th>2</th>\n",
       "      <td>fraud_Kuphal-Toy</td>\n",
       "      <td>food_dining</td>\n",
       "      <td>102.24</td>\n",
       "      <td>Krystal</td>\n",
       "      <td>Key</td>\n",
       "      <td>F</td>\n",
       "      <td>Corsica</td>\n",
       "      <td>PA</td>\n",
       "      <td>41.1762</td>\n",
       "      <td>-79.1976</td>\n",
       "      <td>...</td>\n",
       "      <td>51.138962</td>\n",
       "      <td>61.171045</td>\n",
       "      <td>71.804820</td>\n",
       "      <td>128.060000</td>\n",
       "      <td>52.092533</td>\n",
       "      <td>0.794073</td>\n",
       "      <td>0</td>\n",
       "      <td>1.00</td>\n",
       "      <td>1308.82</td>\n",
       "      <td>64.007485</td>\n",
       "    </tr>\n",
       "    <tr>\n",
       "      <th>3</th>\n",
       "      <td>fraud_Berge, Kautzer and Harris</td>\n",
       "      <td>personal_care</td>\n",
       "      <td>14.11</td>\n",
       "      <td>Sally</td>\n",
       "      <td>Moore</td>\n",
       "      <td>F</td>\n",
       "      <td>Hopkins</td>\n",
       "      <td>SC</td>\n",
       "      <td>33.9349</td>\n",
       "      <td>-80.8449</td>\n",
       "      <td>...</td>\n",
       "      <td>48.022896</td>\n",
       "      <td>65.752747</td>\n",
       "      <td>63.164189</td>\n",
       "      <td>35.780000</td>\n",
       "      <td>47.947266</td>\n",
       "      <td>1.005535</td>\n",
       "      <td>0</td>\n",
       "      <td>1.00</td>\n",
       "      <td>1503.12</td>\n",
       "      <td>71.690800</td>\n",
       "    </tr>\n",
       "    <tr>\n",
       "      <th>4</th>\n",
       "      <td>fraud_Bahringer, Schoen and Corkery</td>\n",
       "      <td>shopping_pos</td>\n",
       "      <td>8.44</td>\n",
       "      <td>Adam</td>\n",
       "      <td>Santos</td>\n",
       "      <td>M</td>\n",
       "      <td>Glendale</td>\n",
       "      <td>CA</td>\n",
       "      <td>34.1556</td>\n",
       "      <td>-118.2322</td>\n",
       "      <td>...</td>\n",
       "      <td>79.648241</td>\n",
       "      <td>67.491494</td>\n",
       "      <td>73.320097</td>\n",
       "      <td>879.949286</td>\n",
       "      <td>75.996519</td>\n",
       "      <td>1.036219</td>\n",
       "      <td>0</td>\n",
       "      <td>1.01</td>\n",
       "      <td>3923.46</td>\n",
       "      <td>64.898676</td>\n",
       "    </tr>\n",
       "  </tbody>\n",
       "</table>\n",
       "<p>5 rows × 30 columns</p>\n",
       "</div>"
      ],
      "text/plain": [
       "                              merchant       category     amt    first  \\\n",
       "0                 fraud_Crona and Sons      kids_pets    7.26   Martin   \n",
       "1                      fraud_Kiehn Inc    grocery_pos  141.52  Jessica   \n",
       "2                     fraud_Kuphal-Toy    food_dining  102.24  Krystal   \n",
       "3      fraud_Berge, Kautzer and Harris  personal_care   14.11    Sally   \n",
       "4  fraud_Bahringer, Schoen and Corkery   shopping_pos    8.44     Adam   \n",
       "\n",
       "     last gender           city state      lat      long  ...  category_mean  \\\n",
       "0    Ford      M  Corriganville    MD  39.6967  -78.8031  ...      57.604905   \n",
       "1  Garcia      F     Mc Cracken    KS  38.5957  -99.5540  ...     116.959903   \n",
       "2     Key      F        Corsica    PA  41.1762  -79.1976  ...      51.138962   \n",
       "3   Moore      F        Hopkins    SC  33.9349  -80.8449  ...      48.022896   \n",
       "4  Santos      M       Glendale    CA  34.1556 -118.2322  ...      79.648241   \n",
       "\n",
       "   city_mean  state_mean  merchant_and_fraud  merchant_and_non_fraud  \\\n",
       "0  63.258911   65.936879           18.760000               57.577475   \n",
       "1  62.506844   69.539323          317.373600              113.377140   \n",
       "2  61.171045   71.804820          128.060000               52.092533   \n",
       "3  65.752747   63.164189           35.780000               47.947266   \n",
       "4  67.491494   73.320097          879.949286               75.996519   \n",
       "\n",
       "   euclidean_distance  big_transaction  city_min  city_max   job_mean  \n",
       "0            0.435773                0      1.02   4215.99  60.036652  \n",
       "1            0.464279                0      1.04   2838.23  78.029582  \n",
       "2            0.794073                0      1.00   1308.82  64.007485  \n",
       "3            1.005535                0      1.00   1503.12  71.690800  \n",
       "4            1.036219                0      1.01   3923.46  64.898676  \n",
       "\n",
       "[5 rows x 30 columns]"
      ]
     },
     "execution_count": 177,
     "metadata": {},
     "output_type": "execute_result"
    }
   ],
   "source": [
    "X_train.head()"
   ]
  },
  {
   "cell_type": "markdown",
   "id": "33770d43",
   "metadata": {},
   "source": [
    "### Logistic Regression"
   ]
  },
  {
   "cell_type": "code",
   "execution_count": 178,
   "id": "e0c57ebc",
   "metadata": {},
   "outputs": [],
   "source": [
    "from sklearn.linear_model import LogisticRegression"
   ]
  },
  {
   "cell_type": "code",
   "execution_count": 179,
   "id": "3b6cccbc",
   "metadata": {},
   "outputs": [],
   "source": [
    "model = LogisticRegression()\n",
    "model.fit(X_train_encoded, y_train)\n",
    "y_predictions = model.predict(X_test_encoded)"
   ]
  },
  {
   "cell_type": "code",
   "execution_count": 180,
   "id": "fa0e04bc",
   "metadata": {},
   "outputs": [
    {
     "name": "stdout",
     "output_type": "stream",
     "text": [
      "              precision    recall  f1-score   support\n",
      "\n",
      "           0       1.00      0.99      1.00     32379\n",
      "           1       0.07      0.37      0.12        38\n",
      "\n",
      "    accuracy                           0.99     32417\n",
      "   macro avg       0.54      0.68      0.56     32417\n",
      "weighted avg       1.00      0.99      1.00     32417\n",
      "\n"
     ]
    }
   ],
   "source": [
    "print(classification_report(y_predictions, y_test))"
   ]
  },
  {
   "cell_type": "code",
   "execution_count": 181,
   "id": "e1555bde",
   "metadata": {},
   "outputs": [
    {
     "data": {
      "text/plain": [
       "array([[32205,    24],\n",
       "       [  174,    14]], dtype=int64)"
      ]
     },
     "execution_count": 181,
     "metadata": {},
     "output_type": "execute_result"
    }
   ],
   "source": [
    "confusion_matrix(y_test, y_predictions)"
   ]
  },
  {
   "cell_type": "code",
   "execution_count": 183,
   "id": "a2bb754a",
   "metadata": {},
   "outputs": [
    {
     "data": {
      "text/plain": [
       "array([[ 2.56209570e-03, -2.72775036e-02,  8.39480799e-03, ...,\n",
       "        -9.29601604e-06, -2.67985319e-05,  1.36294912e-06]])"
      ]
     },
     "execution_count": 183,
     "metadata": {},
     "output_type": "execute_result"
    }
   ],
   "source": [
    "model.coef_"
   ]
  },
  {
   "cell_type": "code",
   "execution_count": null,
   "id": "82782f5f",
   "metadata": {},
   "outputs": [],
   "source": []
  },
  {
   "cell_type": "markdown",
   "id": "5d21b474",
   "metadata": {},
   "source": [
    "### SMOTE Oversampling"
   ]
  },
  {
   "cell_type": "code",
   "execution_count": 192,
   "id": "69b31f02",
   "metadata": {},
   "outputs": [],
   "source": [
    "from imblearn.over_sampling import SMOTE\n",
    "\n",
    "smote = SMOTE(random_state = 101)\n",
    "\n",
    "X_train_oversampled_tuple = smote.fit_resample(X_train_encoded, y_train)"
   ]
  },
  {
   "cell_type": "code",
   "execution_count": 193,
   "id": "ba82168f",
   "metadata": {},
   "outputs": [],
   "source": [
    "# Reading the input and output from the tuple\n",
    "X_train_oversampled = X_train_oversampled_tuple[0]\n",
    "y_train_oversampled = X_train_oversampled_tuple[1]"
   ]
  },
  {
   "cell_type": "code",
   "execution_count": 194,
   "id": "5682d388",
   "metadata": {},
   "outputs": [
    {
     "name": "stdout",
     "output_type": "stream",
     "text": [
      "The initial shape of the training dataset: (1264258, 4148)\n",
      "The shape of oversampled training dataset: (2513880, 4148)\n"
     ]
    }
   ],
   "source": [
    "print(\"The initial shape of the training dataset: {}\".format(X_train_encoded.shape))\n",
    "print(\"The shape of oversampled training dataset: {}\".format(X_train_oversampled.shape))"
   ]
  },
  {
   "cell_type": "code",
   "execution_count": 195,
   "id": "9ce584fb",
   "metadata": {},
   "outputs": [
    {
     "name": "stdout",
     "output_type": "stream",
     "text": [
      "[22:05:53] WARNING: C:\\Windows\\Temp\\abs_557yfx631l\\croots\\recipe\\xgboost-split_1659548953302\\work\\src\\learner.cc:1115: Starting in XGBoost 1.3.0, the default evaluation metric used with the objective 'binary:logistic' was changed from 'error' to 'logloss'. Explicitly set eval_metric if you'd like to restore the old behavior.\n"
     ]
    },
    {
     "data": {
      "text/plain": [
       "XGBClassifier(base_score=0.5, booster='gbtree', colsample_bylevel=1,\n",
       "              colsample_bynode=1, colsample_bytree=1, enable_categorical=False,\n",
       "              gamma=0, gpu_id=-1, importance_type=None,\n",
       "              interaction_constraints='', learning_rate=0.300000012,\n",
       "              max_delta_step=0, max_depth=3, min_child_weight=1, missing=nan,\n",
       "              monotone_constraints='()', n_estimators=25, n_jobs=30,\n",
       "              num_parallel_tree=1, predictor='auto', random_state=101,\n",
       "              reg_alpha=0, reg_lambda=1, scale_pos_weight=1, subsample=1,\n",
       "              tree_method='exact', validate_parameters=1, verbosity=None)"
      ]
     },
     "execution_count": 195,
     "metadata": {},
     "output_type": "execute_result"
    }
   ],
   "source": [
    "# This cell can take about 5-10 mins as we are training a large dataset\n",
    "xgb_model = xgb.XGBClassifier(n_estimators = 25, max_depth = 3, random_state = 101, n_jobs = 30)\n",
    "xgb_model.fit(X_train_oversampled, y_train_oversampled)"
   ]
  },
  {
   "cell_type": "code",
   "execution_count": 196,
   "id": "1b78d80c",
   "metadata": {},
   "outputs": [],
   "source": [
    "y_predictions = xgb_model.predict(X_test_encoded)"
   ]
  },
  {
   "cell_type": "code",
   "execution_count": 197,
   "id": "58d91e10",
   "metadata": {},
   "outputs": [
    {
     "name": "stdout",
     "output_type": "stream",
     "text": [
      "              precision    recall  f1-score   support\n",
      "\n",
      "           0       1.00      0.99      0.99     32229\n",
      "           1       0.24      0.77      0.37       188\n",
      "\n",
      "    accuracy                           0.98     32417\n",
      "   macro avg       0.62      0.88      0.68     32417\n",
      "weighted avg       0.99      0.98      0.99     32417\n",
      "\n"
     ]
    }
   ],
   "source": [
    "print(classification_report(y_test, y_predictions))"
   ]
  },
  {
   "cell_type": "markdown",
   "id": "36900897",
   "metadata": {},
   "source": [
    "### Random Undersampling"
   ]
  },
  {
   "cell_type": "code",
   "execution_count": 201,
   "id": "ac37b8b9",
   "metadata": {},
   "outputs": [],
   "source": [
    "from imblearn.under_sampling import RandomUnderSampler\n",
    "\n",
    "random_undersampler = RandomUnderSampler(random_state = 101, sampling_strategy = 'majority')\n",
    "\n",
    "X_train_undersampled_tuple = random_undersampler.fit_resample(X_train_encoded, y_train)"
   ]
  },
  {
   "cell_type": "code",
   "execution_count": 202,
   "id": "edaa889a",
   "metadata": {},
   "outputs": [],
   "source": [
    "# Reading the input and output from the tuple\n",
    "X_train_undersampled = X_train_undersampled_tuple[0]\n",
    "y_train_undersampled = X_train_undersampled_tuple[1]"
   ]
  },
  {
   "cell_type": "code",
   "execution_count": 203,
   "id": "b8946e92",
   "metadata": {},
   "outputs": [
    {
     "name": "stdout",
     "output_type": "stream",
     "text": [
      "The initial shape of the training dataset: (1264258, 4148)\n",
      "The shape of oversampled training dataset: (14636, 4148)\n"
     ]
    }
   ],
   "source": [
    "print(\"The initial shape of the training dataset: {}\".format(X_train_encoded.shape))\n",
    "print(\"The shape of undersampled training dataset: {}\".format(X_train_undersampled.shape))"
   ]
  },
  {
   "cell_type": "code",
   "execution_count": 210,
   "id": "18f14db1",
   "metadata": {},
   "outputs": [
    {
     "name": "stdout",
     "output_type": "stream",
     "text": [
      "[22:10:44] WARNING: C:\\Windows\\Temp\\abs_557yfx631l\\croots\\recipe\\xgboost-split_1659548953302\\work\\src\\learner.cc:1115: Starting in XGBoost 1.3.0, the default evaluation metric used with the objective 'binary:logistic' was changed from 'error' to 'logloss'. Explicitly set eval_metric if you'd like to restore the old behavior.\n"
     ]
    },
    {
     "data": {
      "text/plain": [
       "XGBClassifier(base_score=0.5, booster='gbtree', colsample_bylevel=1,\n",
       "              colsample_bynode=1, colsample_bytree=1, enable_categorical=False,\n",
       "              gamma=0, gpu_id=-1, importance_type=None,\n",
       "              interaction_constraints='', learning_rate=0.300000012,\n",
       "              max_delta_step=0, max_depth=5, min_child_weight=1, missing=nan,\n",
       "              monotone_constraints='()', n_estimators=200, n_jobs=30,\n",
       "              num_parallel_tree=1, predictor='auto', random_state=101,\n",
       "              reg_alpha=0, reg_lambda=1, scale_pos_weight=1, subsample=1,\n",
       "              tree_method='exact', validate_parameters=1, verbosity=None)"
      ]
     },
     "execution_count": 210,
     "metadata": {},
     "output_type": "execute_result"
    }
   ],
   "source": [
    "# This cell can take about 5-10 mins as we are training a large dataset\n",
    "xgb_model = xgb.XGBClassifier(n_estimators = 200, max_depth = 5, random_state = 101, n_jobs = 30)\n",
    "xgb_model.fit(X_train_undersampled, y_train_undersampled)"
   ]
  },
  {
   "cell_type": "code",
   "execution_count": 211,
   "id": "cb2eecbe",
   "metadata": {},
   "outputs": [],
   "source": [
    "y_predictions = xgb_model.predict(X_test_encoded)"
   ]
  },
  {
   "cell_type": "code",
   "execution_count": 212,
   "id": "ddf50414",
   "metadata": {},
   "outputs": [
    {
     "name": "stdout",
     "output_type": "stream",
     "text": [
      "              precision    recall  f1-score   support\n",
      "\n",
      "           0       1.00      0.98      0.99     32229\n",
      "           1       0.19      0.97      0.31       188\n",
      "\n",
      "    accuracy                           0.98     32417\n",
      "   macro avg       0.59      0.97      0.65     32417\n",
      "weighted avg       1.00      0.98      0.98     32417\n",
      "\n"
     ]
    }
   ],
   "source": [
    "print(classification_report(y_test, y_predictions))"
   ]
  },
  {
   "cell_type": "markdown",
   "id": "0a1f6b2b",
   "metadata": {},
   "source": [
    "### Random Oversampling"
   ]
  },
  {
   "cell_type": "code",
   "execution_count": 214,
   "id": "e2cda5be",
   "metadata": {},
   "outputs": [],
   "source": [
    "from imblearn.over_sampling import RandomOverSampler\n",
    "\n",
    "random_oversampler = RandomOverSampler(random_state = 101, sampling_strategy = 'minority')\n",
    "\n",
    "X_train_oversampled_tuple = random_oversampler.fit_resample(X_train_encoded, y_train)"
   ]
  },
  {
   "cell_type": "code",
   "execution_count": 215,
   "id": "9abed66b",
   "metadata": {},
   "outputs": [],
   "source": [
    "# Reading the input and output from the tuple\n",
    "X_train_oversampled = X_train_oversampled_tuple[0]\n",
    "y_train_oversampled = X_train_oversampled_tuple[1]"
   ]
  },
  {
   "cell_type": "code",
   "execution_count": 216,
   "id": "890e33fe",
   "metadata": {},
   "outputs": [
    {
     "name": "stdout",
     "output_type": "stream",
     "text": [
      "The initial shape of the training dataset: (1264258, 4148)\n",
      "The shape of oversampled training dataset: (2513880, 4148)\n"
     ]
    }
   ],
   "source": [
    "print(\"The initial shape of the training dataset: {}\".format(X_train_encoded.shape))\n",
    "print(\"The shape of oversampled training dataset: {}\".format(X_train_oversampled.shape))"
   ]
  },
  {
   "cell_type": "code",
   "execution_count": 223,
   "id": "8f40686e",
   "metadata": {},
   "outputs": [
    {
     "name": "stdout",
     "output_type": "stream",
     "text": [
      "[22:24:30] WARNING: C:\\Windows\\Temp\\abs_557yfx631l\\croots\\recipe\\xgboost-split_1659548953302\\work\\src\\learner.cc:1115: Starting in XGBoost 1.3.0, the default evaluation metric used with the objective 'binary:logistic' was changed from 'error' to 'logloss'. Explicitly set eval_metric if you'd like to restore the old behavior.\n"
     ]
    },
    {
     "data": {
      "text/plain": [
       "XGBClassifier(base_score=0.5, booster='gbtree', colsample_bylevel=1,\n",
       "              colsample_bynode=1, colsample_bytree=1, enable_categorical=False,\n",
       "              gamma=0, gpu_id=-1, importance_type=None,\n",
       "              interaction_constraints='', learning_rate=0.300000012,\n",
       "              max_delta_step=0, max_depth=3, min_child_weight=1, missing=nan,\n",
       "              monotone_constraints='()', n_estimators=25, n_jobs=30,\n",
       "              num_parallel_tree=1, predictor='auto', random_state=101,\n",
       "              reg_alpha=0, reg_lambda=1, scale_pos_weight=1, subsample=1,\n",
       "              tree_method='exact', validate_parameters=1, verbosity=None)"
      ]
     },
     "execution_count": 223,
     "metadata": {},
     "output_type": "execute_result"
    }
   ],
   "source": [
    "# This cell can take about 5-10 mins as we are training a large dataset\n",
    "xgb_model = xgb.XGBClassifier(n_estimators = 25, max_depth = 3, random_state = 101, n_jobs = 30)\n",
    "xgb_model.fit(X_train_oversampled, y_train_oversampled)"
   ]
  },
  {
   "cell_type": "code",
   "execution_count": 224,
   "id": "c44c12de",
   "metadata": {},
   "outputs": [],
   "source": [
    "y_predictions = xgb_model.predict(X_test_encoded)"
   ]
  },
  {
   "cell_type": "code",
   "execution_count": 225,
   "id": "869352fe",
   "metadata": {},
   "outputs": [
    {
     "name": "stdout",
     "output_type": "stream",
     "text": [
      "              precision    recall  f1-score   support\n",
      "\n",
      "           0       1.00      0.97      0.98     32229\n",
      "           1       0.14      0.95      0.25       188\n",
      "\n",
      "    accuracy                           0.97     32417\n",
      "   macro avg       0.57      0.96      0.61     32417\n",
      "weighted avg       0.99      0.97      0.98     32417\n",
      "\n"
     ]
    }
   ],
   "source": [
    "print(classification_report(y_test, y_predictions))"
   ]
  },
  {
   "cell_type": "code",
   "execution_count": 226,
   "id": "de059b6b",
   "metadata": {},
   "outputs": [
    {
     "data": {
      "text/html": [
       "<div>\n",
       "<style scoped>\n",
       "    .dataframe tbody tr th:only-of-type {\n",
       "        vertical-align: middle;\n",
       "    }\n",
       "\n",
       "    .dataframe tbody tr th {\n",
       "        vertical-align: top;\n",
       "    }\n",
       "\n",
       "    .dataframe thead th {\n",
       "        text-align: right;\n",
       "    }\n",
       "</style>\n",
       "<table border=\"1\" class=\"dataframe\">\n",
       "  <thead>\n",
       "    <tr style=\"text-align: right;\">\n",
       "      <th></th>\n",
       "      <th>merchant</th>\n",
       "      <th>category</th>\n",
       "      <th>amt</th>\n",
       "      <th>first</th>\n",
       "      <th>last</th>\n",
       "      <th>gender</th>\n",
       "      <th>city</th>\n",
       "      <th>state</th>\n",
       "      <th>zip</th>\n",
       "      <th>lat</th>\n",
       "      <th>...</th>\n",
       "      <th>unix_time</th>\n",
       "      <th>merch_lat</th>\n",
       "      <th>merch_long</th>\n",
       "      <th>is_fraud</th>\n",
       "      <th>year</th>\n",
       "      <th>month</th>\n",
       "      <th>day</th>\n",
       "      <th>hour</th>\n",
       "      <th>minute</th>\n",
       "      <th>second</th>\n",
       "    </tr>\n",
       "  </thead>\n",
       "  <tbody>\n",
       "    <tr>\n",
       "      <th>0</th>\n",
       "      <td>fraud_Rippin, Kub and Mann</td>\n",
       "      <td>misc_net</td>\n",
       "      <td>4.97</td>\n",
       "      <td>Jennifer</td>\n",
       "      <td>Banks</td>\n",
       "      <td>F</td>\n",
       "      <td>Moravian Falls</td>\n",
       "      <td>NC</td>\n",
       "      <td>28654</td>\n",
       "      <td>36.0788</td>\n",
       "      <td>...</td>\n",
       "      <td>1325376018</td>\n",
       "      <td>36.011293</td>\n",
       "      <td>-82.048315</td>\n",
       "      <td>0</td>\n",
       "      <td>2019</td>\n",
       "      <td>1</td>\n",
       "      <td>1</td>\n",
       "      <td>0</td>\n",
       "      <td>0</td>\n",
       "      <td>18</td>\n",
       "    </tr>\n",
       "    <tr>\n",
       "      <th>1</th>\n",
       "      <td>fraud_Heller, Gutmann and Zieme</td>\n",
       "      <td>grocery_pos</td>\n",
       "      <td>107.23</td>\n",
       "      <td>Stephanie</td>\n",
       "      <td>Gill</td>\n",
       "      <td>F</td>\n",
       "      <td>Orient</td>\n",
       "      <td>WA</td>\n",
       "      <td>99160</td>\n",
       "      <td>48.8878</td>\n",
       "      <td>...</td>\n",
       "      <td>1325376044</td>\n",
       "      <td>49.159047</td>\n",
       "      <td>-118.186462</td>\n",
       "      <td>0</td>\n",
       "      <td>2019</td>\n",
       "      <td>1</td>\n",
       "      <td>1</td>\n",
       "      <td>0</td>\n",
       "      <td>0</td>\n",
       "      <td>44</td>\n",
       "    </tr>\n",
       "    <tr>\n",
       "      <th>2</th>\n",
       "      <td>fraud_Lind-Buckridge</td>\n",
       "      <td>entertainment</td>\n",
       "      <td>220.11</td>\n",
       "      <td>Edward</td>\n",
       "      <td>Sanchez</td>\n",
       "      <td>M</td>\n",
       "      <td>Malad City</td>\n",
       "      <td>ID</td>\n",
       "      <td>83252</td>\n",
       "      <td>42.1808</td>\n",
       "      <td>...</td>\n",
       "      <td>1325376051</td>\n",
       "      <td>43.150704</td>\n",
       "      <td>-112.154481</td>\n",
       "      <td>0</td>\n",
       "      <td>2019</td>\n",
       "      <td>1</td>\n",
       "      <td>1</td>\n",
       "      <td>0</td>\n",
       "      <td>0</td>\n",
       "      <td>51</td>\n",
       "    </tr>\n",
       "    <tr>\n",
       "      <th>3</th>\n",
       "      <td>fraud_Kutch, Hermiston and Farrell</td>\n",
       "      <td>gas_transport</td>\n",
       "      <td>45.00</td>\n",
       "      <td>Jeremy</td>\n",
       "      <td>White</td>\n",
       "      <td>M</td>\n",
       "      <td>Boulder</td>\n",
       "      <td>MT</td>\n",
       "      <td>59632</td>\n",
       "      <td>46.2306</td>\n",
       "      <td>...</td>\n",
       "      <td>1325376076</td>\n",
       "      <td>47.034331</td>\n",
       "      <td>-112.561071</td>\n",
       "      <td>0</td>\n",
       "      <td>2019</td>\n",
       "      <td>1</td>\n",
       "      <td>1</td>\n",
       "      <td>0</td>\n",
       "      <td>1</td>\n",
       "      <td>16</td>\n",
       "    </tr>\n",
       "    <tr>\n",
       "      <th>4</th>\n",
       "      <td>fraud_Keeling-Crist</td>\n",
       "      <td>misc_pos</td>\n",
       "      <td>41.96</td>\n",
       "      <td>Tyler</td>\n",
       "      <td>Garcia</td>\n",
       "      <td>M</td>\n",
       "      <td>Doe Hill</td>\n",
       "      <td>VA</td>\n",
       "      <td>24433</td>\n",
       "      <td>38.4207</td>\n",
       "      <td>...</td>\n",
       "      <td>1325376186</td>\n",
       "      <td>38.674999</td>\n",
       "      <td>-78.632459</td>\n",
       "      <td>0</td>\n",
       "      <td>2019</td>\n",
       "      <td>1</td>\n",
       "      <td>1</td>\n",
       "      <td>0</td>\n",
       "      <td>3</td>\n",
       "      <td>6</td>\n",
       "    </tr>\n",
       "  </tbody>\n",
       "</table>\n",
       "<p>5 rows × 23 columns</p>\n",
       "</div>"
      ],
      "text/plain": [
       "                             merchant       category     amt      first  \\\n",
       "0          fraud_Rippin, Kub and Mann       misc_net    4.97   Jennifer   \n",
       "1     fraud_Heller, Gutmann and Zieme    grocery_pos  107.23  Stephanie   \n",
       "2                fraud_Lind-Buckridge  entertainment  220.11     Edward   \n",
       "3  fraud_Kutch, Hermiston and Farrell  gas_transport   45.00     Jeremy   \n",
       "4                 fraud_Keeling-Crist       misc_pos   41.96      Tyler   \n",
       "\n",
       "      last gender            city state    zip      lat  ...   unix_time  \\\n",
       "0    Banks      F  Moravian Falls    NC  28654  36.0788  ...  1325376018   \n",
       "1     Gill      F          Orient    WA  99160  48.8878  ...  1325376044   \n",
       "2  Sanchez      M      Malad City    ID  83252  42.1808  ...  1325376051   \n",
       "3    White      M         Boulder    MT  59632  46.2306  ...  1325376076   \n",
       "4   Garcia      M        Doe Hill    VA  24433  38.4207  ...  1325376186   \n",
       "\n",
       "   merch_lat  merch_long  is_fraud  year  month  day  hour  minute  second  \n",
       "0  36.011293  -82.048315         0  2019      1    1     0       0      18  \n",
       "1  49.159047 -118.186462         0  2019      1    1     0       0      44  \n",
       "2  43.150704 -112.154481         0  2019      1    1     0       0      51  \n",
       "3  47.034331 -112.561071         0  2019      1    1     0       1      16  \n",
       "4  38.674999  -78.632459         0  2019      1    1     0       3       6  \n",
       "\n",
       "[5 rows x 23 columns]"
      ]
     },
     "execution_count": 226,
     "metadata": {},
     "output_type": "execute_result"
    }
   ],
   "source": [
    "df.head()"
   ]
  },
  {
   "cell_type": "code",
   "execution_count": 227,
   "id": "67f0ecd6",
   "metadata": {},
   "outputs": [
    {
     "data": {
      "text/html": [
       "<div>\n",
       "<style scoped>\n",
       "    .dataframe tbody tr th:only-of-type {\n",
       "        vertical-align: middle;\n",
       "    }\n",
       "\n",
       "    .dataframe tbody tr th {\n",
       "        vertical-align: top;\n",
       "    }\n",
       "\n",
       "    .dataframe thead th {\n",
       "        text-align: right;\n",
       "    }\n",
       "</style>\n",
       "<table border=\"1\" class=\"dataframe\">\n",
       "  <thead>\n",
       "    <tr style=\"text-align: right;\">\n",
       "      <th></th>\n",
       "      <th>amt</th>\n",
       "      <th>lat</th>\n",
       "      <th>long</th>\n",
       "      <th>city_pop</th>\n",
       "      <th>unix_time</th>\n",
       "      <th>merch_lat</th>\n",
       "      <th>merch_long</th>\n",
       "      <th>euclidean_distance</th>\n",
       "    </tr>\n",
       "  </thead>\n",
       "  <tbody>\n",
       "    <tr>\n",
       "      <th>424954</th>\n",
       "      <td>166.77</td>\n",
       "      <td>34.5906</td>\n",
       "      <td>-95.3800</td>\n",
       "      <td>1760</td>\n",
       "      <td>1341858861</td>\n",
       "      <td>35.263565</td>\n",
       "      <td>-96.310568</td>\n",
       "      <td>1.148407</td>\n",
       "    </tr>\n",
       "    <tr>\n",
       "      <th>414822</th>\n",
       "      <td>29.14</td>\n",
       "      <td>38.8954</td>\n",
       "      <td>-77.1633</td>\n",
       "      <td>207410</td>\n",
       "      <td>1341600345</td>\n",
       "      <td>38.147359</td>\n",
       "      <td>-76.818658</td>\n",
       "      <td>0.823616</td>\n",
       "    </tr>\n",
       "    <tr>\n",
       "      <th>1174163</th>\n",
       "      <td>1.72</td>\n",
       "      <td>36.8020</td>\n",
       "      <td>-87.8286</td>\n",
       "      <td>13422</td>\n",
       "      <td>1367720732</td>\n",
       "      <td>36.436757</td>\n",
       "      <td>-86.989457</td>\n",
       "      <td>0.915185</td>\n",
       "    </tr>\n",
       "    <tr>\n",
       "      <th>371611</th>\n",
       "      <td>105.86</td>\n",
       "      <td>38.8938</td>\n",
       "      <td>-86.5246</td>\n",
       "      <td>1228</td>\n",
       "      <td>1340273421</td>\n",
       "      <td>39.642489</td>\n",
       "      <td>-87.294020</td>\n",
       "      <td>1.073565</td>\n",
       "    </tr>\n",
       "    <tr>\n",
       "      <th>1108407</th>\n",
       "      <td>95.27</td>\n",
       "      <td>44.8816</td>\n",
       "      <td>-73.6408</td>\n",
       "      <td>2148</td>\n",
       "      <td>1365240467</td>\n",
       "      <td>44.293910</td>\n",
       "      <td>-74.248301</td>\n",
       "      <td>0.845244</td>\n",
       "    </tr>\n",
       "  </tbody>\n",
       "</table>\n",
       "</div>"
      ],
      "text/plain": [
       "            amt      lat     long  city_pop   unix_time  merch_lat  \\\n",
       "424954   166.77  34.5906 -95.3800      1760  1341858861  35.263565   \n",
       "414822    29.14  38.8954 -77.1633    207410  1341600345  38.147359   \n",
       "1174163    1.72  36.8020 -87.8286     13422  1367720732  36.436757   \n",
       "371611   105.86  38.8938 -86.5246      1228  1340273421  39.642489   \n",
       "1108407   95.27  44.8816 -73.6408      2148  1365240467  44.293910   \n",
       "\n",
       "         merch_long  euclidean_distance  \n",
       "424954   -96.310568            1.148407  \n",
       "414822   -76.818658            0.823616  \n",
       "1174163  -86.989457            0.915185  \n",
       "371611   -87.294020            1.073565  \n",
       "1108407  -74.248301            0.845244  "
      ]
     },
     "execution_count": 227,
     "metadata": {},
     "output_type": "execute_result"
    }
   ],
   "source": [
    "X_train_numerical.head()"
   ]
  },
  {
   "cell_type": "code",
   "execution_count": 228,
   "id": "0d67f348",
   "metadata": {},
   "outputs": [
    {
     "data": {
      "text/html": [
       "<div>\n",
       "<style scoped>\n",
       "    .dataframe tbody tr th:only-of-type {\n",
       "        vertical-align: middle;\n",
       "    }\n",
       "\n",
       "    .dataframe tbody tr th {\n",
       "        vertical-align: top;\n",
       "    }\n",
       "\n",
       "    .dataframe thead th {\n",
       "        text-align: right;\n",
       "    }\n",
       "</style>\n",
       "<table border=\"1\" class=\"dataframe\">\n",
       "  <thead>\n",
       "    <tr style=\"text-align: right;\">\n",
       "      <th></th>\n",
       "      <th>merchant</th>\n",
       "      <th>category</th>\n",
       "      <th>first</th>\n",
       "      <th>last</th>\n",
       "      <th>gender</th>\n",
       "      <th>city</th>\n",
       "      <th>state</th>\n",
       "      <th>job</th>\n",
       "      <th>zip</th>\n",
       "      <th>year</th>\n",
       "      <th>month</th>\n",
       "      <th>day</th>\n",
       "      <th>hour</th>\n",
       "      <th>minute</th>\n",
       "      <th>second</th>\n",
       "    </tr>\n",
       "  </thead>\n",
       "  <tbody>\n",
       "    <tr>\n",
       "      <th>424954</th>\n",
       "      <td>fraud_Hills, Hegmann and Schaefer</td>\n",
       "      <td>health_fitness</td>\n",
       "      <td>Donna</td>\n",
       "      <td>Davis</td>\n",
       "      <td>F</td>\n",
       "      <td>Clayton</td>\n",
       "      <td>OK</td>\n",
       "      <td>Occupational psychologist</td>\n",
       "      <td>74536</td>\n",
       "      <td>2019</td>\n",
       "      <td>7</td>\n",
       "      <td>9</td>\n",
       "      <td>18</td>\n",
       "      <td>34</td>\n",
       "      <td>21</td>\n",
       "    </tr>\n",
       "    <tr>\n",
       "      <th>414822</th>\n",
       "      <td>fraud_Nolan-Williamson</td>\n",
       "      <td>kids_pets</td>\n",
       "      <td>David</td>\n",
       "      <td>Lewis</td>\n",
       "      <td>M</td>\n",
       "      <td>Arlington</td>\n",
       "      <td>VA</td>\n",
       "      <td>Mudlogger</td>\n",
       "      <td>22213</td>\n",
       "      <td>2019</td>\n",
       "      <td>7</td>\n",
       "      <td>6</td>\n",
       "      <td>18</td>\n",
       "      <td>45</td>\n",
       "      <td>45</td>\n",
       "    </tr>\n",
       "    <tr>\n",
       "      <th>1174163</th>\n",
       "      <td>fraud_Johns-Hoeger</td>\n",
       "      <td>entertainment</td>\n",
       "      <td>John</td>\n",
       "      <td>Clarke</td>\n",
       "      <td>M</td>\n",
       "      <td>Cadiz</td>\n",
       "      <td>KY</td>\n",
       "      <td>Commissioning editor</td>\n",
       "      <td>42211</td>\n",
       "      <td>2020</td>\n",
       "      <td>5</td>\n",
       "      <td>5</td>\n",
       "      <td>2</td>\n",
       "      <td>25</td>\n",
       "      <td>32</td>\n",
       "    </tr>\n",
       "    <tr>\n",
       "      <th>371611</th>\n",
       "      <td>fraud_Strosin-Cruickshank</td>\n",
       "      <td>grocery_pos</td>\n",
       "      <td>Erica</td>\n",
       "      <td>Briggs</td>\n",
       "      <td>F</td>\n",
       "      <td>Oolitic</td>\n",
       "      <td>IN</td>\n",
       "      <td>Counsellor</td>\n",
       "      <td>47451</td>\n",
       "      <td>2019</td>\n",
       "      <td>6</td>\n",
       "      <td>21</td>\n",
       "      <td>10</td>\n",
       "      <td>10</td>\n",
       "      <td>21</td>\n",
       "    </tr>\n",
       "    <tr>\n",
       "      <th>1108407</th>\n",
       "      <td>fraud_Conroy-Cruickshank</td>\n",
       "      <td>gas_transport</td>\n",
       "      <td>Toni</td>\n",
       "      <td>Gomez</td>\n",
       "      <td>F</td>\n",
       "      <td>Altona</td>\n",
       "      <td>NY</td>\n",
       "      <td>Surveyor, land/geomatics</td>\n",
       "      <td>12910</td>\n",
       "      <td>2020</td>\n",
       "      <td>4</td>\n",
       "      <td>6</td>\n",
       "      <td>9</td>\n",
       "      <td>27</td>\n",
       "      <td>47</td>\n",
       "    </tr>\n",
       "  </tbody>\n",
       "</table>\n",
       "</div>"
      ],
      "text/plain": [
       "                                  merchant        category  first    last  \\\n",
       "424954   fraud_Hills, Hegmann and Schaefer  health_fitness  Donna   Davis   \n",
       "414822              fraud_Nolan-Williamson       kids_pets  David   Lewis   \n",
       "1174163                 fraud_Johns-Hoeger   entertainment   John  Clarke   \n",
       "371611           fraud_Strosin-Cruickshank     grocery_pos  Erica  Briggs   \n",
       "1108407           fraud_Conroy-Cruickshank   gas_transport   Toni   Gomez   \n",
       "\n",
       "        gender       city state                        job    zip  year  \\\n",
       "424954       F    Clayton    OK  Occupational psychologist  74536  2019   \n",
       "414822       M  Arlington    VA                  Mudlogger  22213  2019   \n",
       "1174163      M      Cadiz    KY       Commissioning editor  42211  2020   \n",
       "371611       F    Oolitic    IN                 Counsellor  47451  2019   \n",
       "1108407      F     Altona    NY   Surveyor, land/geomatics  12910  2020   \n",
       "\n",
       "         month  day  hour  minute  second  \n",
       "424954       7    9    18      34      21  \n",
       "414822       7    6    18      45      45  \n",
       "1174163      5    5     2      25      32  \n",
       "371611       6   21    10      10      21  \n",
       "1108407      4    6     9      27      47  "
      ]
     },
     "execution_count": 228,
     "metadata": {},
     "output_type": "execute_result"
    }
   ],
   "source": [
    "X_train_categorical.head()"
   ]
  },
  {
   "cell_type": "code",
   "execution_count": null,
   "id": "166b50f8",
   "metadata": {},
   "outputs": [],
   "source": []
  }
 ],
 "metadata": {
  "kernelspec": {
   "display_name": "Python 3 (ipykernel)",
   "language": "python",
   "name": "python3"
  },
  "language_info": {
   "codemirror_mode": {
    "name": "ipython",
    "version": 3
   },
   "file_extension": ".py",
   "mimetype": "text/x-python",
   "name": "python",
   "nbconvert_exporter": "python",
   "pygments_lexer": "ipython3",
   "version": "3.10.8"
  }
 },
 "nbformat": 4,
 "nbformat_minor": 5
}
